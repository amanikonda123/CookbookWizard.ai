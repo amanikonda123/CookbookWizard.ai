{
  "cells": [
    {
      "cell_type": "markdown",
      "metadata": {
        "id": "view-in-github",
        "colab_type": "text"
      },
      "source": [
        "<a href=\"https://colab.research.google.com/github/amanikonda123/CookbookWizard.ai/blob/main/part2_d2v.ipynb\" target=\"_parent\"><img src=\"https://colab.research.google.com/assets/colab-badge.svg\" alt=\"Open In Colab\"/></a>"
      ]
    },
    {
      "cell_type": "markdown",
      "metadata": {
        "id": "u8b-OpFXR1Nv"
      },
      "source": [
        "# CSC 480-F23 NLP and Word2Vec/Doc2Vec🍔:  \n",
        "\n"
      ]
    },
    {
      "cell_type": "markdown",
      "metadata": {
        "id": "NT82g6tkaZr7"
      },
      "source": [
        "https://jalammar.github.io/illustrated-word2vec/\n",
        "\n",
        "Cool article i found\n"
      ]
    },
    {
      "cell_type": "markdown",
      "metadata": {
        "id": "RWhPeHMFaZdc"
      },
      "source": []
    },
    {
      "cell_type": "code",
      "execution_count": null,
      "metadata": {
        "id": "StOmsNX1abEF"
      },
      "outputs": [],
      "source": []
    },
    {
      "cell_type": "markdown",
      "metadata": {
        "id": "gMNa8-P9PqHM"
      },
      "source": [
        "## Version history"
      ]
    },
    {
      "cell_type": "markdown",
      "metadata": {
        "id": "82cwSVmmPB5v"
      },
      "source": [
        "- Version 1: November 12, 2023\n",
        "  - First Draft of Tutorial"
      ]
    },
    {
      "cell_type": "markdown",
      "metadata": {
        "id": "BlvJxOkXQf0o"
      },
      "source": [
        "# Authors:\n"
      ]
    },
    {
      "cell_type": "markdown",
      "metadata": {
        "id": "6y0M9Wq5S2Wv"
      },
      "source": [
        "***Ethan Schnepp***\n",
        "\n",
        "***Randall Caler***\n",
        "\n",
        "***Aditya Manikonda***\n",
        "\n",
        "***Thomas Panyasrivinit***\n",
        "\n",
        "\n"
      ]
    },
    {
      "cell_type": "markdown",
      "metadata": {
        "id": "VyydW4wm_bue"
      },
      "source": [
        "# Copyright: Apache 2.0 License\n"
      ]
    },
    {
      "cell_type": "markdown",
      "metadata": {
        "id": "wuYUD6DXQ_PD"
      },
      "source": [
        "\n",
        "```\n",
        "# Licensed under the Apache License, Version 2.0 (the \"License\");\n",
        "# you may not use this file except in compliance with the License.\n",
        "# You may obtain a copy of the License at\n",
        "#\n",
        "# https://www.apache.org/licenses/LICENSE-2.0\n",
        "#\n",
        "# Unless required by applicable law or agreed to in writing, software\n",
        "# distributed under the License is distributed on an \"AS IS\" BASIS,\n",
        "# WITHOUT WARRANTIES OR CONDITIONS OF ANY KIND, either express or implied.\n",
        "# See the License for the specific language governing permissions and\n",
        "# limitations under the License.\n",
        "\n",
        "```\n"
      ]
    },
    {
      "cell_type": "markdown",
      "metadata": {
        "id": "pVI_bs4tQILD"
      },
      "source": [
        "## Colab and Jupyter Notebooks\n"
      ]
    },
    {
      "cell_type": "code",
      "execution_count": null,
      "metadata": {
        "colab": {
          "base_uri": "https://localhost:8080/"
        },
        "id": "UH-Fh3SkL5qR",
        "outputId": "5f36da11-ecb4-4b85-b2ec-ad2ad2c074a4"
      },
      "outputs": [
        {
          "output_type": "stream",
          "name": "stdout",
          "text": [
            "Hello World\n"
          ]
        }
      ],
      "source": [
        "print(\"Hello World\")"
      ]
    },
    {
      "cell_type": "markdown",
      "metadata": {
        "id": "pNFyUN2TV5xe"
      },
      "source": [
        "A Colab consists of a Jupyter notebook that is set up in the cloud. Jupyter notebooks (and thus Colabs) are composed of text cells (like this one) and code cells. An example of a code cell is below; it is marked by two square brackets '[ ]', which turn into an arrow when you move the cursor over them. Clicking on the arrow \"runs\" the cell: the code contained in the cell is executed. If the code produces an output, it is displayed underneath. There may be a number enclosed between the two brackets. This indicates that the code has been run multiple times."
      ]
    },
    {
      "cell_type": "markdown",
      "metadata": {
        "id": "PYr9fSJuMA4y"
      },
      "source": [
        "## Google Account\n",
        "You need to have a Google account that lets you store files on GDrive. If you have a Gmail account, you should be able to go to [Google Drive](https://drive.google.com/) and log in with your Gmail login and password.\n",
        "\n",
        "\n"
      ]
    },
    {
      "cell_type": "markdown",
      "metadata": {
        "id": "ObEp5kafQTfp"
      },
      "source": [
        "## Create Your Copy\n",
        "If you want to use and modify a lab, you need to save a copy. To do so, go to the 'File' menu, select 'Save a copy in Drive' and change the name (it begins with 'Copy of ...'). You can share Colab notebooks with others, similar to sharing a document on Google Drive.\n"
      ]
    },
    {
      "cell_type": "markdown",
      "metadata": {
        "id": "nHL9QQl7QXW9"
      },
      "source": [
        "## Set Up a Colab\n",
        "Colabs run in the cloud through your Web browser. There's no need to install software on your computer. A Colab may require other software (libraries) to run, but this is done in the Colab itself, usually at the beginning.  "
      ]
    },
    {
      "cell_type": "markdown",
      "metadata": {
        "id": "dm4rb6kITXQo"
      },
      "source": [
        "# Overview"
      ]
    },
    {
      "cell_type": "markdown",
      "metadata": {
        "id": "r1BYWB1QTeue"
      },
      "source": [
        "We will be looking at a technique for natural language processing (NLP) called word embeddings. We will first be examining Word2vec, which is a neural network model that learns word asociations from a large corpus of text. Once the model is trained, it can detect synonymous words and levels of semantic similarity. It does this by representing each distinct word with a vector.\n",
        "\n",
        "We will also be going over Doc2Vec. Doc2Vec is an extension of Word2Vec, and is a paragraph vector that enables the representation of documents as vectors. While Word2Vec is used to learn word embenings, Doc2Vec is used to learn document embeddings. This technique allows us to compare documents based on their vector representation and perform various tasks such as document classification, clustering, and similarity analysis.\n",
        "\n",
        "By the end of this tutorial, users will have a functional word embeddings model that takes in a general food category and output 10 of the most similar recipes to that food category from a given dataset.\n",
        "\n"
      ]
    },
    {
      "cell_type": "markdown",
      "metadata": {
        "id": "7mknHApYUOoz"
      },
      "source": [
        "## Prerequisites"
      ]
    },
    {
      "cell_type": "markdown",
      "metadata": {
        "id": "zRZebPe-UUYf"
      },
      "source": [
        "Participants should have intermediate background knowledge of Python, a very rudimentary foundation on AI methods, and a Kaggle account to access the datasets.![Screenshot 2023-12-01 at 8.35.16 PM.png](data:image/png;base64,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)"
      ]
    },
    {
      "cell_type": "markdown",
      "metadata": {
        "id": "Ysx6aVbsUiLk"
      },
      "source": [
        "##Learning Objectives"
      ]
    },
    {
      "cell_type": "markdown",
      "metadata": {
        "id": "nU2BOLDGUluv"
      },
      "source": [
        "Throughout the tutorial, participants will:\n",
        "\n",
        "* Have a stronger understanding on what word embeddings can do\n",
        "* Develop a stronger intuition on when to use Word2Vec or Doc2Vec\n",
        "* Understand how Word2Vec and Doc2Vec models are trained and what each of their hyperparameters control\n",
        "* Examine different variations of Word2Vec models such as CBOW and Skip Gram\n",
        "* Learn how to use the Kaggle API to download datasets from the web\n",
        "\n"
      ]
    },
    {
      "cell_type": "markdown",
      "metadata": {
        "id": "BQHK5AJnlcZE"
      },
      "source": [
        "# Imports"
      ]
    },
    {
      "cell_type": "markdown",
      "metadata": {
        "id": "DO2G5Ih6lt6G"
      },
      "source": [
        "Before we get started, let's import all the necessary libraries and models for this tutorial."
      ]
    },
    {
      "cell_type": "code",
      "execution_count": null,
      "metadata": {
        "id": "d4pFlaN4lhap"
      },
      "outputs": [],
      "source": [
        "import pandas as pd\n",
        "import numpy as np\n",
        "from gensim.models import Word2Vec, Doc2Vec\n",
        "from gensim.models.doc2vec import TaggedDocument\n",
        "from sklearn.metrics.pairwise import cosine_similarity"
      ]
    },
    {
      "cell_type": "code",
      "execution_count": null,
      "metadata": {
        "colab": {
          "base_uri": "https://localhost:8080/"
        },
        "id": "HEM-bUvMTJXP",
        "outputId": "d415a6aa-a426-454e-84df-ff10af10e123"
      },
      "outputs": [
        {
          "output_type": "stream",
          "name": "stdout",
          "text": [
            "Requirement already satisfied: gensim in /usr/local/lib/python3.10/dist-packages (4.3.2)\n",
            "Requirement already satisfied: numpy>=1.18.5 in /usr/local/lib/python3.10/dist-packages (from gensim) (1.23.5)\n",
            "Requirement already satisfied: scipy>=1.7.0 in /usr/local/lib/python3.10/dist-packages (from gensim) (1.11.4)\n",
            "Requirement already satisfied: smart-open>=1.8.1 in /usr/local/lib/python3.10/dist-packages (from gensim) (6.4.0)\n"
          ]
        }
      ],
      "source": [
        "!pip install --upgrade gensim"
      ]
    },
    {
      "cell_type": "markdown",
      "metadata": {
        "id": "1--NMRPQpbFD"
      },
      "source": [
        "# Data Set\n"
      ]
    },
    {
      "cell_type": "markdown",
      "metadata": {
        "id": "a-gyK0T3DlZl"
      },
      "source": [
        "The dataset we will be using can be found on Kaggle and is titled “Food Ingredients and Recipes Dataset with Images” (https://www.kaggle.com/datasets/pes12017000148/food-ingredients-and-recipe-dataset-with-images)."
      ]
    },
    {
      "cell_type": "markdown",
      "metadata": {
        "id": "DtuIL90ABohd"
      },
      "source": [
        "## Data Preparation"
      ]
    },
    {
      "cell_type": "markdown",
      "metadata": {
        "id": "_1exCtkOjyIJ"
      },
      "source": [
        "Let's load in our dataset. It is important to note that you need a Kaggle account with your username and API token in order to access and download the dataset for our code. To create a new API token, you will have to navigate to the 'Settings' page and click on the 'Create New Token' button under 'API.' This should download a 'kaggle.json' file in which you can see your username and API key.\n",
        "\n",
        "To load in our datasets, we are using 'opendatasets,' which is a Python library that contains useful functions for downloading datasets from the web (i.e. Kaggle). Once we have our data loaded locally, we can read in the data using the 'read_csv' function in Pandas."
      ]
    },
    {
      "cell_type": "code",
      "execution_count": null,
      "metadata": {
        "colab": {
          "base_uri": "https://localhost:8080/"
        },
        "id": "h6ID4XJWjx3f",
        "outputId": "fa840c90-4f8f-4cc4-8389-12f554f14a91"
      },
      "outputs": [
        {
          "output_type": "stream",
          "name": "stdout",
          "text": [
            "Collecting opendatasets\n",
            "  Downloading opendatasets-0.1.22-py3-none-any.whl (15 kB)\n",
            "Requirement already satisfied: tqdm in /usr/local/lib/python3.10/dist-packages (from opendatasets) (4.66.1)\n",
            "Requirement already satisfied: kaggle in /usr/local/lib/python3.10/dist-packages (from opendatasets) (1.5.16)\n",
            "Requirement already satisfied: click in /usr/local/lib/python3.10/dist-packages (from opendatasets) (8.1.7)\n",
            "Requirement already satisfied: six>=1.10 in /usr/local/lib/python3.10/dist-packages (from kaggle->opendatasets) (1.16.0)\n",
            "Requirement already satisfied: certifi in /usr/local/lib/python3.10/dist-packages (from kaggle->opendatasets) (2023.11.17)\n",
            "Requirement already satisfied: python-dateutil in /usr/local/lib/python3.10/dist-packages (from kaggle->opendatasets) (2.8.2)\n",
            "Requirement already satisfied: requests in /usr/local/lib/python3.10/dist-packages (from kaggle->opendatasets) (2.31.0)\n",
            "Requirement already satisfied: python-slugify in /usr/local/lib/python3.10/dist-packages (from kaggle->opendatasets) (8.0.1)\n",
            "Requirement already satisfied: urllib3 in /usr/local/lib/python3.10/dist-packages (from kaggle->opendatasets) (2.0.7)\n",
            "Requirement already satisfied: bleach in /usr/local/lib/python3.10/dist-packages (from kaggle->opendatasets) (6.1.0)\n",
            "Requirement already satisfied: webencodings in /usr/local/lib/python3.10/dist-packages (from bleach->kaggle->opendatasets) (0.5.1)\n",
            "Requirement already satisfied: text-unidecode>=1.3 in /usr/local/lib/python3.10/dist-packages (from python-slugify->kaggle->opendatasets) (1.3)\n",
            "Requirement already satisfied: charset-normalizer<4,>=2 in /usr/local/lib/python3.10/dist-packages (from requests->kaggle->opendatasets) (3.3.2)\n",
            "Requirement already satisfied: idna<4,>=2.5 in /usr/local/lib/python3.10/dist-packages (from requests->kaggle->opendatasets) (3.6)\n",
            "Installing collected packages: opendatasets\n",
            "Successfully installed opendatasets-0.1.22\n"
          ]
        }
      ],
      "source": [
        "!pip install opendatasets"
      ]
    },
    {
      "cell_type": "code",
      "execution_count": null,
      "metadata": {
        "id": "TPr8FrVWkABx",
        "colab": {
          "base_uri": "https://localhost:8080/"
        },
        "outputId": "12372a23-7486-48f0-ba52-86de809e1219"
      },
      "outputs": [
        {
          "output_type": "stream",
          "name": "stdout",
          "text": [
            "Please provide your Kaggle credentials to download this dataset. Learn more: http://bit.ly/kaggle-creds\n",
            "Your Kaggle username: thomaspanyasrivinit1\n",
            "Your Kaggle Key: ··········\n",
            "Downloading food-ingredients-and-recipe-dataset-with-images.zip to ./food-ingredients-and-recipe-dataset-with-images\n"
          ]
        },
        {
          "output_type": "stream",
          "name": "stderr",
          "text": [
            "100%|██████████| 206M/206M [00:02<00:00, 104MB/s]\n"
          ]
        },
        {
          "output_type": "stream",
          "name": "stdout",
          "text": [
            "\n"
          ]
        }
      ],
      "source": [
        "import opendatasets as od\n",
        "od.download(\n",
        "    \"https://www.kaggle.com/datasets/pes12017000148/food-ingredients-and-recipe-dataset-with-images\")"
      ]
    },
    {
      "cell_type": "code",
      "execution_count": null,
      "metadata": {
        "id": "ToU2aZMmkSRt"
      },
      "outputs": [],
      "source": [
        "df_recipes = pd.read_csv(\"/content/food-ingredients-and-recipe-dataset-with-images/Food Ingredients and Recipe Dataset with Image Name Mapping.csv\")"
      ]
    },
    {
      "cell_type": "markdown",
      "metadata": {
        "id": "gUDJlaYkKbDQ"
      },
      "source": [
        "### Exploration of the Data"
      ]
    },
    {
      "cell_type": "markdown",
      "metadata": {
        "id": "5xIazGGKjRk4"
      },
      "source": [
        "Our dataset contains two relevant subfolders that correspond to all 13,582 recipes in the dataset. The first subfolder consists of a list of .jpg files that represent images of the recipes while the second subfolder contains all the recipe information in 5 columns: the recipe title, ingredients, instructions, a cleaned up version of the ingredients data, and the name to its corresponding image file from the first subfolder. All of the following data, except for the uncleaned ingredients column, would be relevant for our project because we can use word embeddings on the recipe titles and once we extract the most similar recipes to our target category, we can use all the other fields to reconstruct and present the recipe in a nice manner."
      ]
    },
    {
      "cell_type": "markdown",
      "metadata": {
        "id": "LIGAP2BsKjqL"
      },
      "source": [
        "### Preprocessing"
      ]
    },
    {
      "cell_type": "markdown",
      "metadata": {
        "id": "Ct_o03kbo1HW"
      },
      "source": [
        "Now that we have our data, it would be good to clean it up a little bit. The data is already clean, but there are a few things we could do, such as removing unnecessary columns and rows with missing values."
      ]
    },
    {
      "cell_type": "code",
      "execution_count": null,
      "metadata": {
        "id": "4B0kmKrRs-eW",
        "colab": {
          "base_uri": "https://localhost:8080/",
          "height": 528
        },
        "outputId": "9bad96bc-d533-4f7a-e480-488926fcc110"
      },
      "outputs": [
        {
          "output_type": "execute_result",
          "data": {
            "text/plain": [
              "                                                   Title  \\\n",
              "0      Miso-Butter Roast Chicken With Acorn Squash Pa...   \n",
              "1                        Crispy Salt and Pepper Potatoes   \n",
              "2                            Thanksgiving Mac and Cheese   \n",
              "3                     Italian Sausage and Bread Stuffing   \n",
              "4                                           Newton's Law   \n",
              "...                                                  ...   \n",
              "13496                               Brownie Pudding Cake   \n",
              "13497  Israeli Couscous with Roasted Butternut Squash...   \n",
              "13498  Rice with Soy-Glazed Bonito Flakes and Sesame ...   \n",
              "13499                                        Spanakopita   \n",
              "13500  Mexican Poblano, Spinach, and Black Bean \"Lasa...   \n",
              "\n",
              "                                             Ingredients  \\\n",
              "0      ['1 (3½–4-lb.) whole chicken', '2¾ tsp. kosher...   \n",
              "1      ['2 large egg whites', '1 pound new potatoes (...   \n",
              "2      ['1 cup evaporated milk', '1 cup whole milk', ...   \n",
              "3      ['1 (¾- to 1-pound) round Italian loaf, cut in...   \n",
              "4      ['1 teaspoon dark brown sugar', '1 teaspoon ho...   \n",
              "...                                                  ...   \n",
              "13496  ['1 cup all-purpose flour', '2/3 cup unsweeten...   \n",
              "13497  ['1 preserved lemon', '1 1/2 pound butternut s...   \n",
              "13498  ['Leftover katsuo bushi (dried bonito flakes) ...   \n",
              "13499  ['1 stick (1/2 cup) plus 1 tablespoon unsalted...   \n",
              "13500  ['12 medium to large fresh poblano chiles (2 1...   \n",
              "\n",
              "                                            Instructions  \\\n",
              "0      Pat chicken dry with paper towels, season all ...   \n",
              "1      Preheat oven to 400°F and line a rimmed baking...   \n",
              "2      Place a rack in middle of oven; preheat to 400...   \n",
              "3      Preheat oven to 350°F with rack in middle. Gen...   \n",
              "4      Stir together brown sugar and hot water in a c...   \n",
              "...                                                  ...   \n",
              "13496  Preheat the oven to 350°F. Into a bowl sift to...   \n",
              "13497  Preheat oven to 475°F.\\nHalve lemons and scoop...   \n",
              "13498  If using katsuo bushi flakes from package, moi...   \n",
              "13499  Melt 1 tablespoon butter in a 12-inch heavy sk...   \n",
              "13500  Lay 4 chiles on their sides on racks of gas bu...   \n",
              "\n",
              "                                              Image_Name  \\\n",
              "0      miso-butter-roast-chicken-acorn-squash-panzanella   \n",
              "1             crispy-salt-and-pepper-potatoes-dan-kluger   \n",
              "2             thanksgiving-mac-and-cheese-erick-williams   \n",
              "3              italian-sausage-and-bread-stuffing-240559   \n",
              "4                     newtons-law-apple-bourbon-cocktail   \n",
              "...                                                  ...   \n",
              "13496                         brownie-pudding-cake-14408   \n",
              "13497  israeli-couscous-with-roasted-butternut-squash...   \n",
              "13498  rice-with-soy-glazed-bonito-flakes-and-sesame-...   \n",
              "13499                                 spanakopita-107344   \n",
              "13500  mexican-poblano-spinach-and-black-bean-lasagne...   \n",
              "\n",
              "                                      Cleaned_Image_Name  \n",
              "0      Miso Butter Roast Chicken Acorn Squash Panzanella  \n",
              "1             Crispy Salt And Pepper Potatoes Dan Kluger  \n",
              "2             Thanksgiving Mac And Cheese Erick Williams  \n",
              "3                     Italian Sausage And Bread Stuffing  \n",
              "4                     Newtons Law Apple Bourbon Cocktail  \n",
              "...                                                  ...  \n",
              "13496                               Brownie Pudding Cake  \n",
              "13497  Israeli Couscous With Roasted Butternut Squash...  \n",
              "13498  Rice With Soy Glazed Bonito Flakes And Sesame ...  \n",
              "13499                                        Spanakopita  \n",
              "13500  Mexican Poblano Spinach And Black Bean Lasagne...  \n",
              "\n",
              "[13493 rows x 5 columns]"
            ],
            "text/html": [
              "\n",
              "  <div id=\"df-9beda857-1374-4999-ac92-cc3a6d0e920c\" class=\"colab-df-container\">\n",
              "    <div>\n",
              "<style scoped>\n",
              "    .dataframe tbody tr th:only-of-type {\n",
              "        vertical-align: middle;\n",
              "    }\n",
              "\n",
              "    .dataframe tbody tr th {\n",
              "        vertical-align: top;\n",
              "    }\n",
              "\n",
              "    .dataframe thead th {\n",
              "        text-align: right;\n",
              "    }\n",
              "</style>\n",
              "<table border=\"1\" class=\"dataframe\">\n",
              "  <thead>\n",
              "    <tr style=\"text-align: right;\">\n",
              "      <th></th>\n",
              "      <th>Title</th>\n",
              "      <th>Ingredients</th>\n",
              "      <th>Instructions</th>\n",
              "      <th>Image_Name</th>\n",
              "      <th>Cleaned_Image_Name</th>\n",
              "    </tr>\n",
              "  </thead>\n",
              "  <tbody>\n",
              "    <tr>\n",
              "      <th>0</th>\n",
              "      <td>Miso-Butter Roast Chicken With Acorn Squash Pa...</td>\n",
              "      <td>['1 (3½–4-lb.) whole chicken', '2¾ tsp. kosher...</td>\n",
              "      <td>Pat chicken dry with paper towels, season all ...</td>\n",
              "      <td>miso-butter-roast-chicken-acorn-squash-panzanella</td>\n",
              "      <td>Miso Butter Roast Chicken Acorn Squash Panzanella</td>\n",
              "    </tr>\n",
              "    <tr>\n",
              "      <th>1</th>\n",
              "      <td>Crispy Salt and Pepper Potatoes</td>\n",
              "      <td>['2 large egg whites', '1 pound new potatoes (...</td>\n",
              "      <td>Preheat oven to 400°F and line a rimmed baking...</td>\n",
              "      <td>crispy-salt-and-pepper-potatoes-dan-kluger</td>\n",
              "      <td>Crispy Salt And Pepper Potatoes Dan Kluger</td>\n",
              "    </tr>\n",
              "    <tr>\n",
              "      <th>2</th>\n",
              "      <td>Thanksgiving Mac and Cheese</td>\n",
              "      <td>['1 cup evaporated milk', '1 cup whole milk', ...</td>\n",
              "      <td>Place a rack in middle of oven; preheat to 400...</td>\n",
              "      <td>thanksgiving-mac-and-cheese-erick-williams</td>\n",
              "      <td>Thanksgiving Mac And Cheese Erick Williams</td>\n",
              "    </tr>\n",
              "    <tr>\n",
              "      <th>3</th>\n",
              "      <td>Italian Sausage and Bread Stuffing</td>\n",
              "      <td>['1 (¾- to 1-pound) round Italian loaf, cut in...</td>\n",
              "      <td>Preheat oven to 350°F with rack in middle. Gen...</td>\n",
              "      <td>italian-sausage-and-bread-stuffing-240559</td>\n",
              "      <td>Italian Sausage And Bread Stuffing</td>\n",
              "    </tr>\n",
              "    <tr>\n",
              "      <th>4</th>\n",
              "      <td>Newton's Law</td>\n",
              "      <td>['1 teaspoon dark brown sugar', '1 teaspoon ho...</td>\n",
              "      <td>Stir together brown sugar and hot water in a c...</td>\n",
              "      <td>newtons-law-apple-bourbon-cocktail</td>\n",
              "      <td>Newtons Law Apple Bourbon Cocktail</td>\n",
              "    </tr>\n",
              "    <tr>\n",
              "      <th>...</th>\n",
              "      <td>...</td>\n",
              "      <td>...</td>\n",
              "      <td>...</td>\n",
              "      <td>...</td>\n",
              "      <td>...</td>\n",
              "    </tr>\n",
              "    <tr>\n",
              "      <th>13496</th>\n",
              "      <td>Brownie Pudding Cake</td>\n",
              "      <td>['1 cup all-purpose flour', '2/3 cup unsweeten...</td>\n",
              "      <td>Preheat the oven to 350°F. Into a bowl sift to...</td>\n",
              "      <td>brownie-pudding-cake-14408</td>\n",
              "      <td>Brownie Pudding Cake</td>\n",
              "    </tr>\n",
              "    <tr>\n",
              "      <th>13497</th>\n",
              "      <td>Israeli Couscous with Roasted Butternut Squash...</td>\n",
              "      <td>['1 preserved lemon', '1 1/2 pound butternut s...</td>\n",
              "      <td>Preheat oven to 475°F.\\nHalve lemons and scoop...</td>\n",
              "      <td>israeli-couscous-with-roasted-butternut-squash...</td>\n",
              "      <td>Israeli Couscous With Roasted Butternut Squash...</td>\n",
              "    </tr>\n",
              "    <tr>\n",
              "      <th>13498</th>\n",
              "      <td>Rice with Soy-Glazed Bonito Flakes and Sesame ...</td>\n",
              "      <td>['Leftover katsuo bushi (dried bonito flakes) ...</td>\n",
              "      <td>If using katsuo bushi flakes from package, moi...</td>\n",
              "      <td>rice-with-soy-glazed-bonito-flakes-and-sesame-...</td>\n",
              "      <td>Rice With Soy Glazed Bonito Flakes And Sesame ...</td>\n",
              "    </tr>\n",
              "    <tr>\n",
              "      <th>13499</th>\n",
              "      <td>Spanakopita</td>\n",
              "      <td>['1 stick (1/2 cup) plus 1 tablespoon unsalted...</td>\n",
              "      <td>Melt 1 tablespoon butter in a 12-inch heavy sk...</td>\n",
              "      <td>spanakopita-107344</td>\n",
              "      <td>Spanakopita</td>\n",
              "    </tr>\n",
              "    <tr>\n",
              "      <th>13500</th>\n",
              "      <td>Mexican Poblano, Spinach, and Black Bean \"Lasa...</td>\n",
              "      <td>['12 medium to large fresh poblano chiles (2 1...</td>\n",
              "      <td>Lay 4 chiles on their sides on racks of gas bu...</td>\n",
              "      <td>mexican-poblano-spinach-and-black-bean-lasagne...</td>\n",
              "      <td>Mexican Poblano Spinach And Black Bean Lasagne...</td>\n",
              "    </tr>\n",
              "  </tbody>\n",
              "</table>\n",
              "<p>13493 rows × 5 columns</p>\n",
              "</div>\n",
              "    <div class=\"colab-df-buttons\">\n",
              "\n",
              "  <div class=\"colab-df-container\">\n",
              "    <button class=\"colab-df-convert\" onclick=\"convertToInteractive('df-9beda857-1374-4999-ac92-cc3a6d0e920c')\"\n",
              "            title=\"Convert this dataframe to an interactive table.\"\n",
              "            style=\"display:none;\">\n",
              "\n",
              "  <svg xmlns=\"http://www.w3.org/2000/svg\" height=\"24px\" viewBox=\"0 -960 960 960\">\n",
              "    <path d=\"M120-120v-720h720v720H120Zm60-500h600v-160H180v160Zm220 220h160v-160H400v160Zm0 220h160v-160H400v160ZM180-400h160v-160H180v160Zm440 0h160v-160H620v160ZM180-180h160v-160H180v160Zm440 0h160v-160H620v160Z\"/>\n",
              "  </svg>\n",
              "    </button>\n",
              "\n",
              "  <style>\n",
              "    .colab-df-container {\n",
              "      display:flex;\n",
              "      gap: 12px;\n",
              "    }\n",
              "\n",
              "    .colab-df-convert {\n",
              "      background-color: #E8F0FE;\n",
              "      border: none;\n",
              "      border-radius: 50%;\n",
              "      cursor: pointer;\n",
              "      display: none;\n",
              "      fill: #1967D2;\n",
              "      height: 32px;\n",
              "      padding: 0 0 0 0;\n",
              "      width: 32px;\n",
              "    }\n",
              "\n",
              "    .colab-df-convert:hover {\n",
              "      background-color: #E2EBFA;\n",
              "      box-shadow: 0px 1px 2px rgba(60, 64, 67, 0.3), 0px 1px 3px 1px rgba(60, 64, 67, 0.15);\n",
              "      fill: #174EA6;\n",
              "    }\n",
              "\n",
              "    .colab-df-buttons div {\n",
              "      margin-bottom: 4px;\n",
              "    }\n",
              "\n",
              "    [theme=dark] .colab-df-convert {\n",
              "      background-color: #3B4455;\n",
              "      fill: #D2E3FC;\n",
              "    }\n",
              "\n",
              "    [theme=dark] .colab-df-convert:hover {\n",
              "      background-color: #434B5C;\n",
              "      box-shadow: 0px 1px 3px 1px rgba(0, 0, 0, 0.15);\n",
              "      filter: drop-shadow(0px 1px 2px rgba(0, 0, 0, 0.3));\n",
              "      fill: #FFFFFF;\n",
              "    }\n",
              "  </style>\n",
              "\n",
              "    <script>\n",
              "      const buttonEl =\n",
              "        document.querySelector('#df-9beda857-1374-4999-ac92-cc3a6d0e920c button.colab-df-convert');\n",
              "      buttonEl.style.display =\n",
              "        google.colab.kernel.accessAllowed ? 'block' : 'none';\n",
              "\n",
              "      async function convertToInteractive(key) {\n",
              "        const element = document.querySelector('#df-9beda857-1374-4999-ac92-cc3a6d0e920c');\n",
              "        const dataTable =\n",
              "          await google.colab.kernel.invokeFunction('convertToInteractive',\n",
              "                                                    [key], {});\n",
              "        if (!dataTable) return;\n",
              "\n",
              "        const docLinkHtml = 'Like what you see? Visit the ' +\n",
              "          '<a target=\"_blank\" href=https://colab.research.google.com/notebooks/data_table.ipynb>data table notebook</a>'\n",
              "          + ' to learn more about interactive tables.';\n",
              "        element.innerHTML = '';\n",
              "        dataTable['output_type'] = 'display_data';\n",
              "        await google.colab.output.renderOutput(dataTable, element);\n",
              "        const docLink = document.createElement('div');\n",
              "        docLink.innerHTML = docLinkHtml;\n",
              "        element.appendChild(docLink);\n",
              "      }\n",
              "    </script>\n",
              "  </div>\n",
              "\n",
              "\n",
              "<div id=\"df-e5eb36dc-0b93-4c43-9ec0-d67d893a8ad1\">\n",
              "  <button class=\"colab-df-quickchart\" onclick=\"quickchart('df-e5eb36dc-0b93-4c43-9ec0-d67d893a8ad1')\"\n",
              "            title=\"Suggest charts\"\n",
              "            style=\"display:none;\">\n",
              "\n",
              "<svg xmlns=\"http://www.w3.org/2000/svg\" height=\"24px\"viewBox=\"0 0 24 24\"\n",
              "     width=\"24px\">\n",
              "    <g>\n",
              "        <path d=\"M19 3H5c-1.1 0-2 .9-2 2v14c0 1.1.9 2 2 2h14c1.1 0 2-.9 2-2V5c0-1.1-.9-2-2-2zM9 17H7v-7h2v7zm4 0h-2V7h2v10zm4 0h-2v-4h2v4z\"/>\n",
              "    </g>\n",
              "</svg>\n",
              "  </button>\n",
              "\n",
              "<style>\n",
              "  .colab-df-quickchart {\n",
              "      --bg-color: #E8F0FE;\n",
              "      --fill-color: #1967D2;\n",
              "      --hover-bg-color: #E2EBFA;\n",
              "      --hover-fill-color: #174EA6;\n",
              "      --disabled-fill-color: #AAA;\n",
              "      --disabled-bg-color: #DDD;\n",
              "  }\n",
              "\n",
              "  [theme=dark] .colab-df-quickchart {\n",
              "      --bg-color: #3B4455;\n",
              "      --fill-color: #D2E3FC;\n",
              "      --hover-bg-color: #434B5C;\n",
              "      --hover-fill-color: #FFFFFF;\n",
              "      --disabled-bg-color: #3B4455;\n",
              "      --disabled-fill-color: #666;\n",
              "  }\n",
              "\n",
              "  .colab-df-quickchart {\n",
              "    background-color: var(--bg-color);\n",
              "    border: none;\n",
              "    border-radius: 50%;\n",
              "    cursor: pointer;\n",
              "    display: none;\n",
              "    fill: var(--fill-color);\n",
              "    height: 32px;\n",
              "    padding: 0;\n",
              "    width: 32px;\n",
              "  }\n",
              "\n",
              "  .colab-df-quickchart:hover {\n",
              "    background-color: var(--hover-bg-color);\n",
              "    box-shadow: 0 1px 2px rgba(60, 64, 67, 0.3), 0 1px 3px 1px rgba(60, 64, 67, 0.15);\n",
              "    fill: var(--button-hover-fill-color);\n",
              "  }\n",
              "\n",
              "  .colab-df-quickchart-complete:disabled,\n",
              "  .colab-df-quickchart-complete:disabled:hover {\n",
              "    background-color: var(--disabled-bg-color);\n",
              "    fill: var(--disabled-fill-color);\n",
              "    box-shadow: none;\n",
              "  }\n",
              "\n",
              "  .colab-df-spinner {\n",
              "    border: 2px solid var(--fill-color);\n",
              "    border-color: transparent;\n",
              "    border-bottom-color: var(--fill-color);\n",
              "    animation:\n",
              "      spin 1s steps(1) infinite;\n",
              "  }\n",
              "\n",
              "  @keyframes spin {\n",
              "    0% {\n",
              "      border-color: transparent;\n",
              "      border-bottom-color: var(--fill-color);\n",
              "      border-left-color: var(--fill-color);\n",
              "    }\n",
              "    20% {\n",
              "      border-color: transparent;\n",
              "      border-left-color: var(--fill-color);\n",
              "      border-top-color: var(--fill-color);\n",
              "    }\n",
              "    30% {\n",
              "      border-color: transparent;\n",
              "      border-left-color: var(--fill-color);\n",
              "      border-top-color: var(--fill-color);\n",
              "      border-right-color: var(--fill-color);\n",
              "    }\n",
              "    40% {\n",
              "      border-color: transparent;\n",
              "      border-right-color: var(--fill-color);\n",
              "      border-top-color: var(--fill-color);\n",
              "    }\n",
              "    60% {\n",
              "      border-color: transparent;\n",
              "      border-right-color: var(--fill-color);\n",
              "    }\n",
              "    80% {\n",
              "      border-color: transparent;\n",
              "      border-right-color: var(--fill-color);\n",
              "      border-bottom-color: var(--fill-color);\n",
              "    }\n",
              "    90% {\n",
              "      border-color: transparent;\n",
              "      border-bottom-color: var(--fill-color);\n",
              "    }\n",
              "  }\n",
              "</style>\n",
              "\n",
              "  <script>\n",
              "    async function quickchart(key) {\n",
              "      const quickchartButtonEl =\n",
              "        document.querySelector('#' + key + ' button');\n",
              "      quickchartButtonEl.disabled = true;  // To prevent multiple clicks.\n",
              "      quickchartButtonEl.classList.add('colab-df-spinner');\n",
              "      try {\n",
              "        const charts = await google.colab.kernel.invokeFunction(\n",
              "            'suggestCharts', [key], {});\n",
              "      } catch (error) {\n",
              "        console.error('Error during call to suggestCharts:', error);\n",
              "      }\n",
              "      quickchartButtonEl.classList.remove('colab-df-spinner');\n",
              "      quickchartButtonEl.classList.add('colab-df-quickchart-complete');\n",
              "    }\n",
              "    (() => {\n",
              "      let quickchartButtonEl =\n",
              "        document.querySelector('#df-e5eb36dc-0b93-4c43-9ec0-d67d893a8ad1 button');\n",
              "      quickchartButtonEl.style.display =\n",
              "        google.colab.kernel.accessAllowed ? 'block' : 'none';\n",
              "    })();\n",
              "  </script>\n",
              "</div>\n",
              "    </div>\n",
              "  </div>\n"
            ]
          },
          "metadata": {},
          "execution_count": 8
        }
      ],
      "source": [
        "# Removes Columns containing indices and cleaned ingredients\n",
        "df_recipes = df_recipes.drop(['Unnamed: 0', 'Cleaned_Ingredients'], axis=1)\n",
        "\n",
        "# Removes any rows with missing values\n",
        "df_recipes.dropna(inplace = True)\n",
        "\n",
        "# Cleans up Image_Name\n",
        "df_recipes['Cleaned_Image_Name'] = df_recipes['Image_Name'].str.replace(r'-\\d+$', '', regex=True).str.replace(\"-\", \" \").str.title()\n",
        "df_recipes"
      ]
    },
    {
      "cell_type": "markdown",
      "metadata": {
        "id": "5oNNvkgvpgXa"
      },
      "source": [
        "# Model"
      ]
    },
    {
      "cell_type": "markdown",
      "metadata": {
        "id": "k6Ksvji1MOZo"
      },
      "source": [
        "## Model Selection"
      ]
    },
    {
      "cell_type": "markdown",
      "metadata": {
        "id": "cCVqnfpe3lmZ"
      },
      "source": [
        "Let's quickly take a look at what Word2Vec does. Word2Vec is a popular word embedding technique in natural language processing (NLP) that aims to represent words from a corpus in a continuous vector space. The primary goal of Word2Vec is to capture semantic and syntactic relationships between words, allowing words with similar meanings or contexts to have similar vector representations.\n",
        "\n",
        "Word Embedding techniques such as Word2Vec certainly have a lot of use cases including:\n",
        "\n",
        "* Sentiment Analysis: Helps in determining the sentiment (positive, negative, neutral) of a given text by understanding the contextual meaning of words.\n",
        "* Language Translation: Aids in translating words and phrases from one language to another by finding equivalent words with similar vector representations.\n",
        "* Topic Discovery and Modeling: Facilitates the identification and grouping of similar topics within large text corpora by analyzing the distribution of word vectors.\n",
        "* Chatbot and Virtual Assistant Tr![Screenshot 2023-12-01 at 8.35.16 PM.png]()aining: Enhances the ability of chatbots and virtual assistants to understand and respond to user queries by analyzing the semantic meaning of words in conversations.\n"
      ]
    },
    {
      "cell_type": "markdown",
      "metadata": {
        "id": "9yTHQpi30ZLQ"
      },
      "source": [
        "Let's visualize how it works with an example."
      ]
    },
    {
      "cell_type": "markdown",
      "metadata": {
        "id": "2VbuHTrMzkuM"
      },
      "source": [
        "![Screenshot 2023-12-01 at 8.35.56 PM.png](data:image/png;base64,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)"
      ]
    },
    {
      "cell_type": "markdown",
      "metadata": {
        "id": "sM12ADF30n7K"
      },
      "source": [
        "The way Word2Vec works is by transforming two different words into their own respective vectors, where the vectorization process is determined by the model's own algorithms. Once we have our two vectors, we can find the distance between them in order to see how similar the two words actually are. Shorter distances mean the two words are more similar whereas longer distances mean the two words are semantically different.\n",
        "\n",
        "For example, in the above example, all of these paired words (as indicated by the arrow) would have a very small distance between them, as they have a similar context. King and queen have very similar contexts and in a similar fashion, Italy and Rome are also quite alike."
      ]
    },
    {
      "cell_type": "markdown",
      "metadata": {
        "id": "I2fMtejEH6xL"
      },
      "source": [
        "For our purposes, we can use it to compare a word from the our input and another word from a recipe name and see which recipe name in our dataset closely matches our input. However, we have multiple words that we need to compare. Since Word2Vec can only compare single words with one another, we need to use another technique. Here comes Doc2Vec.\n",
        "\n",
        "Doc2Vec excels at generating document-level embeddings and capturing the overall context and semantics of entire documents or text segments. It provides a way to represent entire documents as continuous vectors. It can more or less do what Word2Vec does but on a larger scale."
      ]
    },
    {
      "cell_type": "markdown",
      "metadata": {
        "id": "F93VhhaeMiuO"
      },
      "source": [
        "## Model Design"
      ]
    },
    {
      "cell_type": "markdown",
      "metadata": {
        "id": "yt-lnkh-MpgR"
      },
      "source": [
        "Here is the general game plan for implementing word embeddings with Doc2Vec.\n",
        "\n",
        "1. Convert our corpus (all the recipe names in our dataset) into TaggedDocument objects through a process called tokenization. In other words, we are converting each word in each recipe name into (Document ID, Word) pairs that we can use to train the Doc2Vec model.\n",
        "2. Train the Doc2Vec model. Here's what the inner workings look like:\n",
        "  * Doc2Vec employs a neural network architecture with two main components: a Paragraph Vector (DocVector) and Word Vectors.\n",
        "  * The Paragraph Vector represents the entire document and is learned during training. Each document is assigned a unique vector.\n",
        "  * The Word Vectors represent individual words and are initialized with pre-trained embeddings (e.g., Word2Vec embeddings) or learned from scratch.\n",
        "  * The training objective is to learn the Paragraph Vector (DocVector) for each document so that it can accurately predict words within that document.\n",
        "  * This is done by minimizing the negative log-likelihood of the target word given the context words (document and neighboring words). The model adjusts the DocVector and Word Vectors to maximize the likelihood of predicting context words accurately.\n",
        "  * After training, the Doc2Vec model can be used for inference, where it takes a new document or text passage and converts it into a fixed-length vector (DocVector).\n",
        "  * During inference, the Word Vectors are frozen (not updated), and the model infers the DocVector for the input document.\n",
        "3. Now that we have our trained model all ready, we can use cosine similarity scores to see how similar the vectorized version of the recipe names are to a vectorized version of our input text data.\n",
        "4. Extract the top 10 most similar entries in the dataset.\n",
        "\n"
      ]
    },
    {
      "cell_type": "markdown",
      "metadata": {
        "id": "7wmXO7-cpvv1"
      },
      "source": [
        "## Model Training"
      ]
    },
    {
      "cell_type": "markdown",
      "metadata": {
        "id": "w_0sWqCO7PDR"
      },
      "source": [
        "Let's begin implementing our model. Some things to note:\n",
        "* There are various parameters that our Doc2Vec model accepts:\n",
        "  * vector_size: The dimensionality of the document vectors (in this case, 100 dimensions)\n",
        "  * window: The maximum distance between the current and predicted word within a sentence\n",
        "  * min_count: Ignores all words with total frequency lower than this\n",
        "  * workers: The number of CPU cores to use for training\n",
        "  epochs: The number of training iterations (in this case, 10 epochs)\n",
        "* We reduce the value for alpha for each iteration because initially, larger steps can help the model converge quickly towards a minimum of the loss function. However, as training progresses, it's important to reduce the learning rate to make smaller and more precise updates, which helps fine-tune the model and improve convergence stability.\n",
        "* We are using the 'Cleaned_Image_Name' column instead of the 'Title' column because it contains more information about the recipe itself, so we would have more information to train the model on.\n"
      ]
    },
    {
      "cell_type": "code",
      "execution_count": null,
      "metadata": {
        "id": "ELykWaC4In3a",
        "colab": {
          "base_uri": "https://localhost:8080/"
        },
        "outputId": "d3402fe5-3acc-4cb4-acf5-4ec6777819e0"
      },
      "outputs": [
        {
          "output_type": "stream",
          "name": "stderr",
          "text": [
            "WARNING:gensim.models.word2vec:Effective 'alpha' higher than previous training cycles\n"
          ]
        },
        {
          "output_type": "stream",
          "name": "stdout",
          "text": [
            "Total training time was 193.2359321117401\n"
          ]
        }
      ],
      "source": [
        "import time\n",
        "#at alpha .001 takes around 2 minutes to train\n",
        "start_time = time.time()\n",
        "# Create TaggedDocument objects from your text data\n",
        "tagged_data = [TaggedDocument(words=doc.split(), tags=[str(i)]) for i, doc in enumerate(df_recipes['Cleaned_Image_Name'])]\n",
        "\n",
        "# Initialize the Doc2vec model\n",
        "doc2vec_model = Doc2Vec(vector_size=100, window=3, min_count=2, workers=4, epochs=10)\n",
        "\n",
        "# Establishes the vocabulary domain using the tagged document objects\n",
        "doc2vec_model.build_vocab(tagged_data)\n",
        "\n",
        "# Train the Doc2Vec model for 10 epochs\n",
        "for epoch in range(20):\n",
        "    doc2vec_model.train(tagged_data, total_examples=doc2vec_model.corpus_count, epochs=doc2vec_model.epochs)\n",
        "    doc2vec_model.alpha -= 0.0001\n",
        "    doc2vec_model.min_alpha = doc2vec_model.alpha\n",
        "end_time = time.time()\n",
        "total_time = end_time - start_time\n",
        "print(f\"Total training time was {total_time}\")\n",
        "# Save the model so it can be used.\n",
        "doc2vec_model.save('d2v_recipe_names.model')"
      ]
    },
    {
      "cell_type": "code",
      "execution_count": null,
      "metadata": {
        "id": "YijeNg94Lbpd",
        "colab": {
          "base_uri": "https://localhost:8080/"
        },
        "outputId": "5d5859bb-782e-4024-dd7f-f58c8ad9d2d9"
      },
      "outputs": [
        {
          "output_type": "stream",
          "name": "stdout",
          "text": [
            "Recipe Name: Orange-Scented Beignets\n",
            "Similarity Score: 0.9369337558746338\n",
            "\n",
            "\n",
            "Recipe Name: Beignets\n",
            "Similarity Score: 0.8897064924240112\n",
            "\n",
            "\n",
            "Recipe Name: Coconut Shrimp Beignets with Pepper Jelly Sauce\n",
            "Similarity Score: 0.688799262046814\n",
            "\n",
            "\n",
            "Recipe Name: Chicken, Mushroom, and Bok Choy Kebabs\n",
            "Similarity Score: 0.6551530361175537\n",
            "\n",
            "\n",
            "Recipe Name: Big Easy Pumpkin Beignets\n",
            "Similarity Score: 0.6550118923187256\n",
            "\n",
            "\n",
            "Recipe Name: Beurre Blanc\n",
            "Similarity Score: 0.6429033279418945\n",
            "\n",
            "\n",
            "Recipe Name: Golden Beet Carpaccio\n",
            "Similarity Score: 0.6422628164291382\n",
            "\n",
            "\n",
            "Recipe Name: Speedy Gazpacho\n",
            "Similarity Score: 0.6262108683586121\n",
            "\n",
            "\n",
            "Recipe Name: Shrimp Boil\n",
            "Similarity Score: 0.6223973035812378\n",
            "\n",
            "\n",
            "Recipe Name: Brussels Sprout Slaw\n",
            "Similarity Score: 0.6223753094673157\n",
            "\n",
            "\n"
          ]
        }
      ],
      "source": [
        "# Load the trained Doc2Vec model from above\n",
        "model = Doc2Vec.load('d2v_recipe_names.model')\n",
        "\n",
        "#accuracy drops significantly when the word is lowercased\n",
        "\n",
        "# Declare some user input (in the full project, this is the result we get from our CNN)\n",
        "input_phrase = \"Beignets\"\n",
        "\n",
        "# Generate an embedding for the input text data\n",
        "input_phrase_embedding = model.infer_vector(input_phrase.split())\n",
        "\n",
        "# Similarities will store cosine similarity with recipe name/ indices\n",
        "similarities = []\n",
        "\n",
        "# Iterate through the recipe names in the DataFrame\n",
        "for index, row in df_recipes.iterrows():\n",
        "    if isinstance(row['Title'], str):\n",
        "    # Generate an embedding for the current recipe name\n",
        "      recipe_name_embedding = model.infer_vector(row['Title'].split())\n",
        "\n",
        "      # Calculate cosine similarity\n",
        "      similarity_score = cosine_similarity([input_phrase_embedding],\n",
        "                                           [recipe_name_embedding])[0][0]\n",
        "\n",
        "      # Store the similarity score and DataFrame index\n",
        "      similarities.append((index, similarity_score))\n",
        "\n",
        "# Sort the recipe names by similarity scores in descending order\n",
        "similarities.sort(key=lambda x: x[1], reverse=True)\n",
        "\n",
        "# Get the top 10 most similar recipe names\n",
        "top_10_similar_recipe_names = [(df_recipes.at[index, 'Title'], similarity_score)\n",
        " for index, similarity_score in similarities[:10]]\n",
        "\n",
        " # Print the top 10 most similar recipe names and their similarity scores\n",
        "for recipe_name, similarity_score in top_10_similar_recipe_names:\n",
        "    print(f\"Recipe Name: {recipe_name}\")\n",
        "    print(f\"Similarity Score: {similarity_score}\")\n",
        "    print(f\"\")\n",
        "    print()"
      ]
    },
    {
      "cell_type": "markdown",
      "metadata": {
        "id": "CBFWD06yYfNq"
      },
      "source": [
        "## Model Validation"
      ]
    },
    {
      "cell_type": "markdown",
      "metadata": {
        "id": "Ssa3kF8Vx4QV"
      },
      "source": [
        "Since our input can vary so much and we don't have a proper training set of inputs to use for cross-validation, we have had some difficulty finding out a proper validation method except for the eyeball test. But based on that, we can see that the 10 recipes we are getting all have some sort of apple component to them, with the similarity score of each of them consistently being between 86% and 93%. We encourage you to try out other inputs and see how the model performs!"
      ]
    },
    {
      "cell_type": "code",
      "execution_count": null,
      "metadata": {
        "id": "N-czwcIFOi1V",
        "colab": {
          "base_uri": "https://localhost:8080/"
        },
        "outputId": "dfa7eb32-a63e-445c-dd9c-4491e767e631"
      },
      "outputs": [
        {
          "output_type": "stream",
          "name": "stdout",
          "text": [
            "Please provide your Kaggle credentials to download this dataset. Learn more: http://bit.ly/kaggle-creds\n",
            "Your Kaggle username: thomaspanyasrivinit1\n",
            "Your Kaggle Key: ··········\n",
            "Downloading ifood-2019-fgvc6.zip to ./ifood-2019-fgvc6\n"
          ]
        },
        {
          "output_type": "stream",
          "name": "stderr",
          "text": [
            "100%|██████████| 2.84G/2.84G [00:34<00:00, 87.8MB/s]\n"
          ]
        },
        {
          "output_type": "stream",
          "name": "stdout",
          "text": [
            "\n",
            "Extracting archive ./ifood-2019-fgvc6/ifood-2019-fgvc6.zip to ./ifood-2019-fgvc6\n"
          ]
        }
      ],
      "source": [
        "od.download(\n",
        "    \"https://www.kaggle.com/competitions/ifood-2019-fgvc6/data\")"
      ]
    },
    {
      "cell_type": "code",
      "execution_count": null,
      "metadata": {
        "id": "ThxIL-9EOjZa",
        "colab": {
          "base_uri": "https://localhost:8080/"
        },
        "outputId": "24c2e3b1-2752-4766-e79a-abc8c9e3309d"
      },
      "outputs": [
        {
          "output_type": "stream",
          "name": "stdout",
          "text": [
            "['Macaron', 'Beignet', 'Cruller', 'Cockle Food', 'Samosa', 'Tiramisu', 'Tostada', 'Moussaka', 'Dumpling', 'Sashimi', 'Knish', 'Croquette', 'Couscous', 'Porridge', 'Stuffed Cabbage', 'Seaweed Salad', 'Chow Mein', 'Rigatoni', 'Beef Tartare', 'Cannoli', 'Foie Gras', 'Cupcake', 'Osso Buco', 'Pad Thai', 'Poutine', 'Ramen', 'Pulled Pork Sandwich', 'Bibimbap', 'Chicken Kiev', 'Apple Pie', 'Risotto', 'Fruitcake', 'Chop Suey', 'Haggis', 'Scrambled Eggs', 'Frittata', 'Scampi', 'Sushi', 'Orzo', 'Fritter', 'Nacho', 'Beef Stroganoff', 'Beef Wellington', 'Spring Roll', 'Savarin', 'Crayfish Food', 'Souffle', 'Adobo', 'Streusel', 'Deviled Egg', 'Escargot', 'Club Sandwich', 'Carrot Cake', 'Falafel', 'Farfalle', 'Terrine', 'Poached Egg', 'Gnocchi', 'Bubble And Squeak', 'Egg Roll', 'Caprese Salad', 'Sauerkraut', 'Creme Brulee', 'Pavlova', 'Fondue', 'Scallop', 'Jambalaya', 'Tempura', 'Chocolate Cake', 'Potpie', 'Spaghetti Bolognese', 'Sukiyaki', 'Applesauce', 'Baklava', 'Salisbury Steak', 'Linguine', 'Edamame', 'Coq Au Vin', 'Tamale', 'Macaroni And Cheese', 'Kedgeree', 'Garlic Bread', 'Beet Salad', 'Steak Tartare', 'Vermicelli', 'Pate', 'Pancake', 'Tetrazzini', 'Onion Rings', 'Red Velvet Cake', 'Compote', 'Lobster Food', 'Chicken Curry', 'Chicken Wing', 'Caesar Salad', 'Succotash', 'Hummus', 'Fish And Chips', 'Lasagna', 'Lutefisk', 'Sloppy Joe', 'Gingerbread', 'Crab Cake', 'Sauerbraten', 'Peking Duck', 'Guacamole', 'Ham Sandwich', 'Crumpet', 'Taco', 'Strawberry Shortcake', 'Clam Chowder', 'Cottage Pie', 'Croque Madame', 'French Onion Soup', 'Beef Carpaccio', 'Torte', 'Poi', 'Crab Food', 'Bacon And Eggs', 'Coffee Cake', 'Custard', 'Syllabub', 'Pork Chop', 'Fried Rice', 'Boiled Egg', 'Galantine', 'Brisket', 'Reuben', 'Schnitzel', 'Ambrosia Food', 'Gyoza', 'Jerky', 'Ravioli', 'Fried Calamari', 'Spaghetti Carbonara', 'Miso Soup', 'Frozen Yogurt', 'Wonton', 'Panna Cotta', 'French Toast', 'Enchilada', 'Ceviche', 'Fettuccine', 'Chili', 'Flan', 'Kabob', 'Sponge Cake', 'Casserole', 'Paella', 'Blancmange', 'Bruschetta', 'Tortellini', 'Grilled Salmon', 'French Fries', 'Shrimp And Grits', 'Churro', 'Donut', 'Meat Loaf Food', 'Meatball', 'Scrapple', 'Strudel', 'Coconut Cake', 'Marble Cake', 'Filet Mignon', 'Hamburger', 'Fried Egg', 'Tuna Tartare', 'Penne', 'Eggs Benedict', 'Bread Pudding', 'Takoyaki', 'Tenderloin', 'Chocolate Mousse', 'Baked Alaska', 'Hot Dog', 'Confit', 'Ham And Eggs', 'Biryani', 'Greek Salad', 'Huevos Rancheros', 'Tagliatelle', 'Stuffed Peppers', 'Cannelloni', 'Pizza', 'Sausage Roll', 'Chicken Quesadilla', 'Hot And Sour Soup', 'Prime Rib', 'Cheesecake', 'Limpet Food', 'Ziti', 'Mussel', 'Manicotti', 'Ice Cream', 'Waffle', 'Oyster', 'Omelette', 'Clam Food', 'Burrito', 'Roulade', 'Lobster Bisque', 'Grilled Cheese Sandwich', 'Gyro', 'Pound Cake', 'Pho', 'Lobster Roll Sandwich', 'Baby Back Rib', 'Tapenade', 'Pepper Steak', 'Welsh Rarebit', 'Pilaf', 'Dolmas', 'Coquilles Saint Jacques', 'Veal Cordon Bleu', 'Shirred Egg', 'Barbecued Wing', 'Lobster Thermidor', 'Steak Au Poivre', 'Huitre', 'Chiffon Cake', 'Profiterole', 'Toad In The Hole', 'Chicken Marengo', 'Victoria Sandwich', 'Tamale Pie', 'Boston Cream Pie', 'Fish Stick', 'Crumb Cake', 'Chicken Provencale', 'Vol Au Vent', 'Entrecote', 'Carbonnade Flamande', 'Bacon Lettuce Tomato Sandwich', 'Scotch Egg', 'Pirogi', 'Peach Melba', 'Upside Down Cake', 'Applesauce Cake', 'Rugulah', 'Rock Cake', 'Barbecued Spareribs', 'Beef Bourguignonne', 'Rissole', 'Mostaccioli', 'Apple Turnover', 'Matzo Ball', 'Chicken Cordon Bleu', 'Eccles Cake', 'Moo Goo Gai Pan', 'Buffalo Wing', 'Stuffed Tomato']\n"
          ]
        }
      ],
      "source": [
        "df_class_list = pd.read_csv(\"/content/ifood-2019-fgvc6/class_list.txt\", header=None)\n",
        "df_class_list.rename(columns={0: 'Recipe Class'}, inplace=True)\n",
        "df_class_list['Recipe Class'] = df_class_list['Recipe Class'].apply(lambda x: x.split(' ', 1)[1] if isinstance(x, str) else x)\n",
        "\n",
        "listdf = df_class_list['Recipe Class'].values.tolist()\n",
        "\n",
        "\n",
        "\n",
        "clean_list = [item.replace(\"_\", \" \") for item in listdf]\n",
        "\n",
        "sc_list = [item.title() for item in clean_list]\n",
        "\n",
        "print(sc_list)\n",
        "\n",
        "#static list\n",
        "short = [\"pizza\", \"apple pie\", \"cupcake\", \"chow mein\",\n",
        "             \"tiramisu\",]\n",
        "test_list = [\"macaron\", \"beignet\", \"cruller\", \"apple pie\", \"samosa\",\n",
        "             \"tiramisu\",\"tostada\",\"moussaka\",\"dumpling\",\"sashimi\",\"knish\",\n",
        "             \"croquette\",\"couscous\",\"porridge\",\"stuffed_cabbage\",\"seaweed salad\",\n",
        "             \"chow_mein\",\"rigatoni\",\"beef tartare\",\"cannoli\",\"foie gras\",\"cupcake\"]\n",
        "cap_list = [item.title() for item in short]\n",
        "\n",
        "\n"
      ]
    },
    {
      "cell_type": "code",
      "execution_count": null,
      "metadata": {
        "id": "vDWNhphoQMES",
        "colab": {
          "base_uri": "https://localhost:8080/",
          "height": 390
        },
        "outputId": "b0b98ac9-ef08-4655-fba3-9c0428c8184f"
      },
      "outputs": [
        {
          "output_type": "error",
          "ename": "KeyboardInterrupt",
          "evalue": "ignored",
          "traceback": [
            "\u001b[0;31m---------------------------------------------------------------------------\u001b[0m",
            "\u001b[0;31mKeyboardInterrupt\u001b[0m                         Traceback (most recent call last)",
            "\u001b[0;32m<ipython-input-13-0b2c0b4e6005>\u001b[0m in \u001b[0;36m<cell line: 33>\u001b[0;34m()\u001b[0m\n\u001b[1;32m     31\u001b[0m \u001b[0;34m\u001b[0m\u001b[0m\n\u001b[1;32m     32\u001b[0m \u001b[0;31m# Calculate the average cosine similarity for each input phrase\u001b[0m\u001b[0;34m\u001b[0m\u001b[0;34m\u001b[0m\u001b[0m\n\u001b[0;32m---> 33\u001b[0;31m \u001b[0maverage_similarities\u001b[0m \u001b[0;34m=\u001b[0m \u001b[0;34m[\u001b[0m\u001b[0maverage_cosine_similarity\u001b[0m\u001b[0;34m(\u001b[0m\u001b[0mphrase\u001b[0m\u001b[0;34m,\u001b[0m \u001b[0mmodel\u001b[0m\u001b[0;34m)\u001b[0m \u001b[0;32mfor\u001b[0m \u001b[0mphrase\u001b[0m \u001b[0;32min\u001b[0m \u001b[0minput_phrases\u001b[0m\u001b[0;34m]\u001b[0m\u001b[0;34m\u001b[0m\u001b[0;34m\u001b[0m\u001b[0m\n\u001b[0m\u001b[1;32m     34\u001b[0m \u001b[0;34m\u001b[0m\u001b[0m\n\u001b[1;32m     35\u001b[0m \u001b[0mprint\u001b[0m\u001b[0;34m(\u001b[0m\u001b[0;34mf\"Overall Average Cosine Similarity: {np.mean(average_similarities)}\"\u001b[0m\u001b[0;34m)\u001b[0m\u001b[0;34m\u001b[0m\u001b[0;34m\u001b[0m\u001b[0m\n",
            "\u001b[0;32m<ipython-input-13-0b2c0b4e6005>\u001b[0m in \u001b[0;36m<listcomp>\u001b[0;34m(.0)\u001b[0m\n\u001b[1;32m     31\u001b[0m \u001b[0;34m\u001b[0m\u001b[0m\n\u001b[1;32m     32\u001b[0m \u001b[0;31m# Calculate the average cosine similarity for each input phrase\u001b[0m\u001b[0;34m\u001b[0m\u001b[0;34m\u001b[0m\u001b[0m\n\u001b[0;32m---> 33\u001b[0;31m \u001b[0maverage_similarities\u001b[0m \u001b[0;34m=\u001b[0m \u001b[0;34m[\u001b[0m\u001b[0maverage_cosine_similarity\u001b[0m\u001b[0;34m(\u001b[0m\u001b[0mphrase\u001b[0m\u001b[0;34m,\u001b[0m \u001b[0mmodel\u001b[0m\u001b[0;34m)\u001b[0m \u001b[0;32mfor\u001b[0m \u001b[0mphrase\u001b[0m \u001b[0;32min\u001b[0m \u001b[0minput_phrases\u001b[0m\u001b[0;34m]\u001b[0m\u001b[0;34m\u001b[0m\u001b[0;34m\u001b[0m\u001b[0m\n\u001b[0m\u001b[1;32m     34\u001b[0m \u001b[0;34m\u001b[0m\u001b[0m\n\u001b[1;32m     35\u001b[0m \u001b[0mprint\u001b[0m\u001b[0;34m(\u001b[0m\u001b[0;34mf\"Overall Average Cosine Similarity: {np.mean(average_similarities)}\"\u001b[0m\u001b[0;34m)\u001b[0m\u001b[0;34m\u001b[0m\u001b[0;34m\u001b[0m\u001b[0m\n",
            "\u001b[0;32m<ipython-input-13-0b2c0b4e6005>\u001b[0m in \u001b[0;36maverage_cosine_similarity\u001b[0;34m(input_phrase, model, top_n)\u001b[0m\n\u001b[1;32m     20\u001b[0m     \u001b[0;32mfor\u001b[0m \u001b[0mrecipe_name\u001b[0m \u001b[0;32min\u001b[0m \u001b[0mdf_recipes\u001b[0m\u001b[0;34m[\u001b[0m\u001b[0;34m'Title'\u001b[0m\u001b[0;34m]\u001b[0m\u001b[0;34m:\u001b[0m\u001b[0;34m\u001b[0m\u001b[0;34m\u001b[0m\u001b[0m\n\u001b[1;32m     21\u001b[0m         \u001b[0;32mif\u001b[0m \u001b[0misinstance\u001b[0m\u001b[0;34m(\u001b[0m\u001b[0mrecipe_name\u001b[0m\u001b[0;34m,\u001b[0m \u001b[0mstr\u001b[0m\u001b[0;34m)\u001b[0m\u001b[0;34m:\u001b[0m\u001b[0;34m\u001b[0m\u001b[0;34m\u001b[0m\u001b[0m\n\u001b[0;32m---> 22\u001b[0;31m             \u001b[0mrecipe_embedding\u001b[0m \u001b[0;34m=\u001b[0m \u001b[0mmodel\u001b[0m\u001b[0;34m.\u001b[0m\u001b[0minfer_vector\u001b[0m\u001b[0;34m(\u001b[0m\u001b[0mrecipe_name\u001b[0m\u001b[0;34m.\u001b[0m\u001b[0msplit\u001b[0m\u001b[0;34m(\u001b[0m\u001b[0;34m)\u001b[0m\u001b[0;34m)\u001b[0m\u001b[0;34m\u001b[0m\u001b[0;34m\u001b[0m\u001b[0m\n\u001b[0m\u001b[1;32m     23\u001b[0m             \u001b[0msimilarity\u001b[0m \u001b[0;34m=\u001b[0m \u001b[0mcosine_similarity\u001b[0m\u001b[0;34m(\u001b[0m\u001b[0;34m[\u001b[0m\u001b[0minput_phrase_embedding\u001b[0m\u001b[0;34m]\u001b[0m\u001b[0;34m,\u001b[0m \u001b[0;34m[\u001b[0m\u001b[0mrecipe_embedding\u001b[0m\u001b[0;34m]\u001b[0m\u001b[0;34m)\u001b[0m\u001b[0;34m[\u001b[0m\u001b[0;36m0\u001b[0m\u001b[0;34m]\u001b[0m\u001b[0;34m[\u001b[0m\u001b[0;36m0\u001b[0m\u001b[0;34m]\u001b[0m\u001b[0;34m\u001b[0m\u001b[0;34m\u001b[0m\u001b[0m\n\u001b[1;32m     24\u001b[0m             \u001b[0msimilarities\u001b[0m\u001b[0;34m.\u001b[0m\u001b[0mappend\u001b[0m\u001b[0;34m(\u001b[0m\u001b[0msimilarity\u001b[0m\u001b[0;34m)\u001b[0m\u001b[0;34m\u001b[0m\u001b[0;34m\u001b[0m\u001b[0m\n",
            "\u001b[0;32m/usr/local/lib/python3.10/dist-packages/gensim/models/doc2vec.py\u001b[0m in \u001b[0;36minfer_vector\u001b[0;34m(self, doc_words, alpha, min_alpha, epochs)\u001b[0m\n\u001b[1;32m    649\u001b[0m                 )\n\u001b[1;32m    650\u001b[0m             \u001b[0;32melse\u001b[0m\u001b[0;34m:\u001b[0m\u001b[0;34m\u001b[0m\u001b[0;34m\u001b[0m\u001b[0m\n\u001b[0;32m--> 651\u001b[0;31m                 train_document_dm(\n\u001b[0m\u001b[1;32m    652\u001b[0m                     \u001b[0mself\u001b[0m\u001b[0;34m,\u001b[0m \u001b[0mdoc_words\u001b[0m\u001b[0;34m,\u001b[0m \u001b[0mdoctag_indexes\u001b[0m\u001b[0;34m,\u001b[0m \u001b[0malpha\u001b[0m\u001b[0;34m,\u001b[0m \u001b[0mwork\u001b[0m\u001b[0;34m,\u001b[0m \u001b[0mneu1\u001b[0m\u001b[0;34m,\u001b[0m\u001b[0;34m\u001b[0m\u001b[0;34m\u001b[0m\u001b[0m\n\u001b[1;32m    653\u001b[0m                     \u001b[0mlearn_words\u001b[0m\u001b[0;34m=\u001b[0m\u001b[0;32mFalse\u001b[0m\u001b[0;34m,\u001b[0m \u001b[0mlearn_hidden\u001b[0m\u001b[0;34m=\u001b[0m\u001b[0;32mFalse\u001b[0m\u001b[0;34m,\u001b[0m \u001b[0mdoctag_vectors\u001b[0m\u001b[0;34m=\u001b[0m\u001b[0mdoctag_vectors\u001b[0m\u001b[0;34m,\u001b[0m \u001b[0mdoctags_lockf\u001b[0m\u001b[0;34m=\u001b[0m\u001b[0mdoctags_lockf\u001b[0m\u001b[0;34m\u001b[0m\u001b[0;34m\u001b[0m\u001b[0m\n",
            "\u001b[0;32m/usr/local/lib/python3.10/dist-packages/gensim/models/doc2vec_inner.pyx\u001b[0m in \u001b[0;36mgensim.models.doc2vec_inner.train_document_dm\u001b[0;34m()\u001b[0m\n",
            "\u001b[0;32mmtrand.pyx\u001b[0m in \u001b[0;36mnumpy.random.mtrand.RandomState.randint\u001b[0;34m()\u001b[0m\n",
            "\u001b[0;32m_bounded_integers.pyx\u001b[0m in \u001b[0;36mnumpy.random._bounded_integers._rand_int64\u001b[0;34m()\u001b[0m\n",
            "\u001b[0;32m/usr/local/lib/python3.10/dist-packages/numpy/core/overrides.py\u001b[0m in \u001b[0;36mprod\u001b[0;34m(*args, **kwargs)\u001b[0m\n",
            "\u001b[0;31mKeyboardInterrupt\u001b[0m: "
          ]
        }
      ],
      "source": [
        "#make a scatter plot of the values\n",
        "\n",
        "import numpy as np\n",
        "import time\n",
        "from sklearn.metrics.pairwise import cosine_similarity\n",
        "\n",
        "# Assuming model is your loaded Doc2Vec model\n",
        "# input_phrases is a list of 250 input phrases\n",
        "input_phrases = short\n",
        "total_time = 0\n",
        "\n",
        "# Function to compute average cosine similarity for an input phrase\n",
        "def average_cosine_similarity(input_phrase, model, top_n=10):\n",
        "    global total_time\n",
        "    start_time = time.time()\n",
        "    input_phrase_embedding = model.infer_vector(input_phrase.split())\n",
        "\n",
        "    # Assuming df_recipes is your dataframe with recipe names\n",
        "    similarities = []\n",
        "    for recipe_name in df_recipes['Title']:\n",
        "        if isinstance(recipe_name, str):\n",
        "            recipe_embedding = model.infer_vector(recipe_name.split())\n",
        "            similarity = cosine_similarity([input_phrase_embedding], [recipe_embedding])[0][0]\n",
        "            similarities.append(similarity)\n",
        "\n",
        "    # Get the top N similarities and calculate the average\n",
        "    top_similarities = sorted(similarities, reverse=True)[:top_n]\n",
        "    end_time = time.time()\n",
        "    total_time = total_time + (end_time - start_time)\n",
        "    return np.mean(top_similarities)\n",
        "\n",
        "# Calculate the average cosine similarity for each input phrase\n",
        "average_similarities = [average_cosine_similarity(phrase, model) for phrase in input_phrases]\n",
        "\n",
        "print(f\"Overall Average Cosine Similarity: {np.mean(average_similarities)}\")\n",
        "print(f\"Overall Average Execution Time: {total_time / 250} seconds\")\n"
      ]
    },
    {
      "cell_type": "code",
      "execution_count": null,
      "metadata": {
        "id": "Awz7rGhoLy9G",
        "colab": {
          "base_uri": "https://localhost:8080/"
        },
        "outputId": "a4ec0ac2-dfbf-4d1c-80ef-8ffc06f8f5a5"
      },
      "outputs": [
        {
          "output_type": "stream",
          "name": "stdout",
          "text": [
            "The current input_phrase is Macaron\n",
            "Mean Filtered Similarity Score: 0.08171788\n",
            "The current input_phrase is Beignet\n",
            "Mean Filtered Similarity Score: 0.0054025203\n",
            "The current input_phrase is Cruller\n",
            "Mean Filtered Similarity Score: 0.15699479\n",
            "The current input_phrase is Cockle Food\n"
          ]
        },
        {
          "output_type": "stream",
          "name": "stderr",
          "text": [
            "/usr/local/lib/python3.10/dist-packages/numpy/core/fromnumeric.py:3432: RuntimeWarning: Mean of empty slice.\n",
            "  return _methods._mean(a, axis=axis, dtype=dtype,\n",
            "/usr/local/lib/python3.10/dist-packages/numpy/core/_methods.py:190: RuntimeWarning: invalid value encountered in double_scalars\n",
            "  ret = ret.dtype.type(ret / rcount)\n"
          ]
        },
        {
          "output_type": "stream",
          "name": "stdout",
          "text": [
            "Mean Filtered Similarity Score: nan\n",
            "The current input_phrase is Samosa\n",
            "Mean Filtered Similarity Score: 0.026826523\n",
            "The current input_phrase is Tiramisu\n",
            "Mean Filtered Similarity Score: 0.5829203\n",
            "The current input_phrase is Tostada\n",
            "Mean Filtered Similarity Score: -0.008668501\n",
            "The current input_phrase is Moussaka\n",
            "Mean Filtered Similarity Score: 0.71158063\n",
            "The current input_phrase is Dumpling\n",
            "Mean Filtered Similarity Score: 0.38958088\n",
            "The current input_phrase is Sashimi\n",
            "Mean Filtered Similarity Score: 0.07204108\n",
            "The current input_phrase is Knish\n"
          ]
        },
        {
          "output_type": "stream",
          "name": "stderr",
          "text": [
            "/usr/local/lib/python3.10/dist-packages/numpy/core/fromnumeric.py:3432: RuntimeWarning: Mean of empty slice.\n",
            "  return _methods._mean(a, axis=axis, dtype=dtype,\n",
            "/usr/local/lib/python3.10/dist-packages/numpy/core/_methods.py:190: RuntimeWarning: invalid value encountered in double_scalars\n",
            "  ret = ret.dtype.type(ret / rcount)\n"
          ]
        },
        {
          "output_type": "stream",
          "name": "stdout",
          "text": [
            "Mean Filtered Similarity Score: nan\n",
            "The current input_phrase is Croquette\n",
            "Mean Filtered Similarity Score: 0.039719876\n",
            "The current input_phrase is Couscous\n",
            "Mean Filtered Similarity Score: 0.46429297\n",
            "The current input_phrase is Porridge\n",
            "Mean Filtered Similarity Score: 0.6135901\n",
            "The current input_phrase is Stuffed Cabbage\n",
            "Mean Filtered Similarity Score: 0.18668666\n",
            "The current input_phrase is Seaweed Salad\n",
            "Mean Filtered Similarity Score: 0.49802297\n",
            "The current input_phrase is Chow Mein\n",
            "Mean Filtered Similarity Score: 0.32943398\n",
            "The current input_phrase is Rigatoni\n",
            "Mean Filtered Similarity Score: 0.5235043\n",
            "The current input_phrase is Beef Tartare\n"
          ]
        },
        {
          "output_type": "stream",
          "name": "stderr",
          "text": [
            "/usr/local/lib/python3.10/dist-packages/numpy/core/fromnumeric.py:3432: RuntimeWarning: Mean of empty slice.\n",
            "  return _methods._mean(a, axis=axis, dtype=dtype,\n",
            "/usr/local/lib/python3.10/dist-packages/numpy/core/_methods.py:190: RuntimeWarning: invalid value encountered in double_scalars\n",
            "  ret = ret.dtype.type(ret / rcount)\n"
          ]
        },
        {
          "output_type": "stream",
          "name": "stdout",
          "text": [
            "Mean Filtered Similarity Score: nan\n",
            "The current input_phrase is Cannoli\n",
            "Mean Filtered Similarity Score: 0.4162224\n",
            "The current input_phrase is Foie Gras\n",
            "Mean Filtered Similarity Score: 0.5708779\n",
            "The current input_phrase is Cupcake\n",
            "Mean Filtered Similarity Score: 0.42055756\n",
            "The current input_phrase is Osso Buco\n",
            "Mean Filtered Similarity Score: 0.5776298\n",
            "The current input_phrase is Pad Thai\n",
            "Mean Filtered Similarity Score: 0.7208541\n",
            "The current input_phrase is Poutine\n"
          ]
        },
        {
          "output_type": "stream",
          "name": "stderr",
          "text": [
            "/usr/local/lib/python3.10/dist-packages/numpy/core/fromnumeric.py:3432: RuntimeWarning: Mean of empty slice.\n",
            "  return _methods._mean(a, axis=axis, dtype=dtype,\n",
            "/usr/local/lib/python3.10/dist-packages/numpy/core/_methods.py:190: RuntimeWarning: invalid value encountered in double_scalars\n",
            "  ret = ret.dtype.type(ret / rcount)\n"
          ]
        },
        {
          "output_type": "stream",
          "name": "stdout",
          "text": [
            "Mean Filtered Similarity Score: nan\n",
            "The current input_phrase is Ramen\n",
            "Mean Filtered Similarity Score: 0.58444226\n",
            "The current input_phrase is Pulled Pork Sandwich\n",
            "Mean Filtered Similarity Score: 0.58007246\n",
            "The current input_phrase is Bibimbap\n",
            "Mean Filtered Similarity Score: 0.71602726\n",
            "The current input_phrase is Chicken Kiev\n"
          ]
        },
        {
          "output_type": "stream",
          "name": "stderr",
          "text": [
            "/usr/local/lib/python3.10/dist-packages/numpy/core/fromnumeric.py:3432: RuntimeWarning: Mean of empty slice.\n",
            "  return _methods._mean(a, axis=axis, dtype=dtype,\n",
            "/usr/local/lib/python3.10/dist-packages/numpy/core/_methods.py:190: RuntimeWarning: invalid value encountered in double_scalars\n",
            "  ret = ret.dtype.type(ret / rcount)\n"
          ]
        },
        {
          "output_type": "stream",
          "name": "stdout",
          "text": [
            "Mean Filtered Similarity Score: nan\n",
            "The current input_phrase is Apple Pie\n",
            "Mean Filtered Similarity Score: 0.6583086\n",
            "The current input_phrase is Risotto\n",
            "Mean Filtered Similarity Score: 0.5588469\n",
            "The current input_phrase is Fruitcake\n",
            "Mean Filtered Similarity Score: 0.4919018\n",
            "The current input_phrase is Chop Suey\n"
          ]
        },
        {
          "output_type": "stream",
          "name": "stderr",
          "text": [
            "/usr/local/lib/python3.10/dist-packages/numpy/core/fromnumeric.py:3432: RuntimeWarning: Mean of empty slice.\n",
            "  return _methods._mean(a, axis=axis, dtype=dtype,\n",
            "/usr/local/lib/python3.10/dist-packages/numpy/core/_methods.py:190: RuntimeWarning: invalid value encountered in double_scalars\n",
            "  ret = ret.dtype.type(ret / rcount)\n"
          ]
        },
        {
          "output_type": "stream",
          "name": "stdout",
          "text": [
            "Mean Filtered Similarity Score: nan\n",
            "The current input_phrase is Haggis\n"
          ]
        },
        {
          "output_type": "stream",
          "name": "stderr",
          "text": [
            "/usr/local/lib/python3.10/dist-packages/numpy/core/fromnumeric.py:3432: RuntimeWarning: Mean of empty slice.\n",
            "  return _methods._mean(a, axis=axis, dtype=dtype,\n",
            "/usr/local/lib/python3.10/dist-packages/numpy/core/_methods.py:190: RuntimeWarning: invalid value encountered in double_scalars\n",
            "  ret = ret.dtype.type(ret / rcount)\n"
          ]
        },
        {
          "output_type": "stream",
          "name": "stdout",
          "text": [
            "Mean Filtered Similarity Score: nan\n",
            "The current input_phrase is Scrambled Eggs\n",
            "Mean Filtered Similarity Score: 0.50096345\n",
            "The current input_phrase is Frittata\n",
            "Mean Filtered Similarity Score: 0.62891585\n",
            "The current input_phrase is Scampi\n",
            "Mean Filtered Similarity Score: 0.5110018\n",
            "The current input_phrase is Sushi\n",
            "Mean Filtered Similarity Score: 0.56471026\n",
            "The current input_phrase is Orzo\n",
            "Mean Filtered Similarity Score: 0.5388528\n",
            "The current input_phrase is Fritter\n",
            "Mean Filtered Similarity Score: -0.102013424\n",
            "The current input_phrase is Nacho\n",
            "Mean Filtered Similarity Score: 0.6015304\n",
            "The current input_phrase is Beef Stroganoff\n",
            "Mean Filtered Similarity Score: 0.92722845\n",
            "The current input_phrase is Beef Wellington\n",
            "Mean Filtered Similarity Score: 0.71840805\n",
            "The current input_phrase is Spring Roll\n",
            "Mean Filtered Similarity Score: 0.1814503\n",
            "The current input_phrase is Savarin\n"
          ]
        },
        {
          "output_type": "stream",
          "name": "stderr",
          "text": [
            "/usr/local/lib/python3.10/dist-packages/numpy/core/fromnumeric.py:3432: RuntimeWarning: Mean of empty slice.\n",
            "  return _methods._mean(a, axis=axis, dtype=dtype,\n",
            "/usr/local/lib/python3.10/dist-packages/numpy/core/_methods.py:190: RuntimeWarning: invalid value encountered in double_scalars\n",
            "  ret = ret.dtype.type(ret / rcount)\n"
          ]
        },
        {
          "output_type": "stream",
          "name": "stdout",
          "text": [
            "Mean Filtered Similarity Score: nan\n",
            "The current input_phrase is Crayfish Food\n"
          ]
        },
        {
          "output_type": "stream",
          "name": "stderr",
          "text": [
            "/usr/local/lib/python3.10/dist-packages/numpy/core/fromnumeric.py:3432: RuntimeWarning: Mean of empty slice.\n",
            "  return _methods._mean(a, axis=axis, dtype=dtype,\n",
            "/usr/local/lib/python3.10/dist-packages/numpy/core/_methods.py:190: RuntimeWarning: invalid value encountered in double_scalars\n",
            "  ret = ret.dtype.type(ret / rcount)\n"
          ]
        },
        {
          "output_type": "stream",
          "name": "stdout",
          "text": [
            "Mean Filtered Similarity Score: nan\n",
            "The current input_phrase is Souffle\n",
            "Mean Filtered Similarity Score: 0.4610804\n",
            "The current input_phrase is Adobo\n",
            "Mean Filtered Similarity Score: 0.55794156\n",
            "The current input_phrase is Streusel\n",
            "Mean Filtered Similarity Score: 0.59747213\n",
            "The current input_phrase is Deviled Egg\n",
            "Mean Filtered Similarity Score: 0.74086106\n",
            "The current input_phrase is Escargot\n",
            "Mean Filtered Similarity Score: -0.049614307\n",
            "The current input_phrase is Club Sandwich\n",
            "Mean Filtered Similarity Score: 0.12759794\n",
            "The current input_phrase is Carrot Cake\n",
            "Mean Filtered Similarity Score: 0.749347\n",
            "The current input_phrase is Falafel\n",
            "Mean Filtered Similarity Score: 0.5567163\n",
            "The current input_phrase is Farfalle\n",
            "Mean Filtered Similarity Score: 0.56078225\n",
            "The current input_phrase is Terrine\n",
            "Mean Filtered Similarity Score: 0.5268603\n",
            "The current input_phrase is Poached Egg\n",
            "Mean Filtered Similarity Score: 0.6595966\n",
            "The current input_phrase is Gnocchi\n",
            "Mean Filtered Similarity Score: 0.5285069\n",
            "The current input_phrase is Bubble And Squeak\n",
            "Mean Filtered Similarity Score: 0.6474942\n",
            "The current input_phrase is Egg Roll\n",
            "Mean Filtered Similarity Score: 0.54894996\n",
            "The current input_phrase is Caprese Salad\n",
            "Mean Filtered Similarity Score: 0.6271614\n",
            "The current input_phrase is Sauerkraut\n",
            "Mean Filtered Similarity Score: 0.48776007\n",
            "The current input_phrase is Creme Brulee\n"
          ]
        },
        {
          "output_type": "stream",
          "name": "stderr",
          "text": [
            "/usr/local/lib/python3.10/dist-packages/numpy/core/fromnumeric.py:3432: RuntimeWarning: Mean of empty slice.\n",
            "  return _methods._mean(a, axis=axis, dtype=dtype,\n",
            "/usr/local/lib/python3.10/dist-packages/numpy/core/_methods.py:190: RuntimeWarning: invalid value encountered in double_scalars\n",
            "  ret = ret.dtype.type(ret / rcount)\n"
          ]
        },
        {
          "output_type": "stream",
          "name": "stdout",
          "text": [
            "Mean Filtered Similarity Score: nan\n",
            "The current input_phrase is Pavlova\n",
            "Mean Filtered Similarity Score: 0.43829757\n",
            "The current input_phrase is Fondue\n",
            "Mean Filtered Similarity Score: 0.6068334\n",
            "The current input_phrase is Scallop\n",
            "Mean Filtered Similarity Score: 0.41370806\n",
            "The current input_phrase is Jambalaya\n",
            "Mean Filtered Similarity Score: 0.49345553\n",
            "The current input_phrase is Tempura\n",
            "Mean Filtered Similarity Score: 0.41949874\n",
            "The current input_phrase is Chocolate Cake\n",
            "Mean Filtered Similarity Score: 0.5729948\n",
            "The current input_phrase is Potpie\n",
            "Mean Filtered Similarity Score: 0.6125146\n",
            "The current input_phrase is Spaghetti Bolognese\n"
          ]
        },
        {
          "output_type": "stream",
          "name": "stderr",
          "text": [
            "/usr/local/lib/python3.10/dist-packages/numpy/core/fromnumeric.py:3432: RuntimeWarning: Mean of empty slice.\n",
            "  return _methods._mean(a, axis=axis, dtype=dtype,\n",
            "/usr/local/lib/python3.10/dist-packages/numpy/core/_methods.py:190: RuntimeWarning: invalid value encountered in double_scalars\n",
            "  ret = ret.dtype.type(ret / rcount)\n"
          ]
        },
        {
          "output_type": "stream",
          "name": "stdout",
          "text": [
            "Mean Filtered Similarity Score: nan\n",
            "The current input_phrase is Sukiyaki\n"
          ]
        },
        {
          "output_type": "stream",
          "name": "stderr",
          "text": [
            "/usr/local/lib/python3.10/dist-packages/numpy/core/fromnumeric.py:3432: RuntimeWarning: Mean of empty slice.\n",
            "  return _methods._mean(a, axis=axis, dtype=dtype,\n",
            "/usr/local/lib/python3.10/dist-packages/numpy/core/_methods.py:190: RuntimeWarning: invalid value encountered in double_scalars\n",
            "  ret = ret.dtype.type(ret / rcount)\n"
          ]
        },
        {
          "output_type": "stream",
          "name": "stdout",
          "text": [
            "Mean Filtered Similarity Score: nan\n",
            "The current input_phrase is Applesauce\n",
            "Mean Filtered Similarity Score: 0.5019448\n",
            "The current input_phrase is Baklava\n",
            "Mean Filtered Similarity Score: 0.53361076\n",
            "The current input_phrase is Salisbury Steak\n"
          ]
        },
        {
          "output_type": "stream",
          "name": "stderr",
          "text": [
            "/usr/local/lib/python3.10/dist-packages/numpy/core/fromnumeric.py:3432: RuntimeWarning: Mean of empty slice.\n",
            "  return _methods._mean(a, axis=axis, dtype=dtype,\n",
            "/usr/local/lib/python3.10/dist-packages/numpy/core/_methods.py:190: RuntimeWarning: invalid value encountered in double_scalars\n",
            "  ret = ret.dtype.type(ret / rcount)\n"
          ]
        },
        {
          "output_type": "stream",
          "name": "stdout",
          "text": [
            "Mean Filtered Similarity Score: nan\n",
            "The current input_phrase is Linguine\n",
            "Mean Filtered Similarity Score: 0.5756996\n",
            "The current input_phrase is Edamame\n",
            "Mean Filtered Similarity Score: 0.6222735\n",
            "The current input_phrase is Coq Au Vin\n",
            "Mean Filtered Similarity Score: 0.37486902\n",
            "The current input_phrase is Tamale\n",
            "Mean Filtered Similarity Score: 0.5197708\n",
            "The current input_phrase is Macaroni And Cheese\n",
            "Mean Filtered Similarity Score: 0.71119565\n",
            "The current input_phrase is Kedgeree\n"
          ]
        },
        {
          "output_type": "stream",
          "name": "stderr",
          "text": [
            "/usr/local/lib/python3.10/dist-packages/numpy/core/fromnumeric.py:3432: RuntimeWarning: Mean of empty slice.\n",
            "  return _methods._mean(a, axis=axis, dtype=dtype,\n",
            "/usr/local/lib/python3.10/dist-packages/numpy/core/_methods.py:190: RuntimeWarning: invalid value encountered in double_scalars\n",
            "  ret = ret.dtype.type(ret / rcount)\n"
          ]
        },
        {
          "output_type": "stream",
          "name": "stdout",
          "text": [
            "Mean Filtered Similarity Score: nan\n",
            "The current input_phrase is Garlic Bread\n",
            "Mean Filtered Similarity Score: 0.6725953\n",
            "The current input_phrase is Beet Salad\n",
            "Mean Filtered Similarity Score: 0.70680183\n",
            "The current input_phrase is Steak Tartare\n",
            "Mean Filtered Similarity Score: 0.6164583\n",
            "The current input_phrase is Vermicelli\n",
            "Mean Filtered Similarity Score: 0.61969906\n",
            "The current input_phrase is Pate\n",
            "Mean Filtered Similarity Score: 0.43586287\n",
            "The current input_phrase is Pancake\n",
            "Mean Filtered Similarity Score: 0.37549475\n",
            "The current input_phrase is Tetrazzini\n",
            "Mean Filtered Similarity Score: 0.018562391\n",
            "The current input_phrase is Onion Rings\n",
            "Mean Filtered Similarity Score: 0.7112483\n",
            "The current input_phrase is Red Velvet Cake\n",
            "Mean Filtered Similarity Score: 0.33057112\n",
            "The current input_phrase is Compote\n",
            "Mean Filtered Similarity Score: 0.5628482\n",
            "The current input_phrase is Lobster Food\n"
          ]
        },
        {
          "output_type": "stream",
          "name": "stderr",
          "text": [
            "/usr/local/lib/python3.10/dist-packages/numpy/core/fromnumeric.py:3432: RuntimeWarning: Mean of empty slice.\n",
            "  return _methods._mean(a, axis=axis, dtype=dtype,\n",
            "/usr/local/lib/python3.10/dist-packages/numpy/core/_methods.py:190: RuntimeWarning: invalid value encountered in double_scalars\n",
            "  ret = ret.dtype.type(ret / rcount)\n"
          ]
        },
        {
          "output_type": "stream",
          "name": "stdout",
          "text": [
            "Mean Filtered Similarity Score: nan\n",
            "The current input_phrase is Chicken Curry\n",
            "Mean Filtered Similarity Score: 0.8045422\n",
            "The current input_phrase is Chicken Wing\n",
            "Mean Filtered Similarity Score: 0.15965705\n",
            "The current input_phrase is Caesar Salad\n",
            "Mean Filtered Similarity Score: 0.70140034\n",
            "The current input_phrase is Succotash\n",
            "Mean Filtered Similarity Score: 0.6153415\n",
            "The current input_phrase is Hummus\n",
            "Mean Filtered Similarity Score: 0.6242798\n",
            "The current input_phrase is Fish And Chips\n",
            "Mean Filtered Similarity Score: 0.71628565\n",
            "The current input_phrase is Lasagna\n",
            "Mean Filtered Similarity Score: 0.5629853\n",
            "The current input_phrase is Lutefisk\n"
          ]
        },
        {
          "output_type": "stream",
          "name": "stderr",
          "text": [
            "/usr/local/lib/python3.10/dist-packages/numpy/core/fromnumeric.py:3432: RuntimeWarning: Mean of empty slice.\n",
            "  return _methods._mean(a, axis=axis, dtype=dtype,\n",
            "/usr/local/lib/python3.10/dist-packages/numpy/core/_methods.py:190: RuntimeWarning: invalid value encountered in double_scalars\n",
            "  ret = ret.dtype.type(ret / rcount)\n"
          ]
        },
        {
          "output_type": "stream",
          "name": "stdout",
          "text": [
            "Mean Filtered Similarity Score: nan\n",
            "The current input_phrase is Sloppy Joe\n",
            "Mean Filtered Similarity Score: 0.7434548\n",
            "The current input_phrase is Gingerbread\n",
            "Mean Filtered Similarity Score: 0.6218852\n",
            "The current input_phrase is Crab Cake\n",
            "Mean Filtered Similarity Score: 0.3996733\n",
            "The current input_phrase is Sauerbraten\n"
          ]
        },
        {
          "output_type": "stream",
          "name": "stderr",
          "text": [
            "/usr/local/lib/python3.10/dist-packages/numpy/core/fromnumeric.py:3432: RuntimeWarning: Mean of empty slice.\n",
            "  return _methods._mean(a, axis=axis, dtype=dtype,\n",
            "/usr/local/lib/python3.10/dist-packages/numpy/core/_methods.py:190: RuntimeWarning: invalid value encountered in double_scalars\n",
            "  ret = ret.dtype.type(ret / rcount)\n"
          ]
        },
        {
          "output_type": "stream",
          "name": "stdout",
          "text": [
            "Mean Filtered Similarity Score: nan\n",
            "The current input_phrase is Peking Duck\n"
          ]
        },
        {
          "output_type": "stream",
          "name": "stderr",
          "text": [
            "/usr/local/lib/python3.10/dist-packages/numpy/core/fromnumeric.py:3432: RuntimeWarning: Mean of empty slice.\n",
            "  return _methods._mean(a, axis=axis, dtype=dtype,\n",
            "/usr/local/lib/python3.10/dist-packages/numpy/core/_methods.py:190: RuntimeWarning: invalid value encountered in double_scalars\n",
            "  ret = ret.dtype.type(ret / rcount)\n"
          ]
        },
        {
          "output_type": "stream",
          "name": "stdout",
          "text": [
            "Mean Filtered Similarity Score: nan\n",
            "The current input_phrase is Guacamole\n",
            "Mean Filtered Similarity Score: 0.56907463\n",
            "The current input_phrase is Ham Sandwich\n"
          ]
        },
        {
          "output_type": "stream",
          "name": "stderr",
          "text": [
            "/usr/local/lib/python3.10/dist-packages/numpy/core/fromnumeric.py:3432: RuntimeWarning: Mean of empty slice.\n",
            "  return _methods._mean(a, axis=axis, dtype=dtype,\n",
            "/usr/local/lib/python3.10/dist-packages/numpy/core/_methods.py:190: RuntimeWarning: invalid value encountered in double_scalars\n",
            "  ret = ret.dtype.type(ret / rcount)\n"
          ]
        },
        {
          "output_type": "stream",
          "name": "stdout",
          "text": [
            "Mean Filtered Similarity Score: nan\n",
            "The current input_phrase is Crumpet\n"
          ]
        },
        {
          "output_type": "stream",
          "name": "stderr",
          "text": [
            "/usr/local/lib/python3.10/dist-packages/numpy/core/fromnumeric.py:3432: RuntimeWarning: Mean of empty slice.\n",
            "  return _methods._mean(a, axis=axis, dtype=dtype,\n",
            "/usr/local/lib/python3.10/dist-packages/numpy/core/_methods.py:190: RuntimeWarning: invalid value encountered in double_scalars\n",
            "  ret = ret.dtype.type(ret / rcount)\n"
          ]
        },
        {
          "output_type": "stream",
          "name": "stdout",
          "text": [
            "Mean Filtered Similarity Score: nan\n",
            "The current input_phrase is Taco\n",
            "Mean Filtered Similarity Score: 0.3846928\n",
            "The current input_phrase is Strawberry Shortcake\n",
            "Mean Filtered Similarity Score: 0.8086898\n",
            "The current input_phrase is Clam Chowder\n",
            "Mean Filtered Similarity Score: 0.7760321\n",
            "The current input_phrase is Cottage Pie\n"
          ]
        },
        {
          "output_type": "stream",
          "name": "stderr",
          "text": [
            "/usr/local/lib/python3.10/dist-packages/numpy/core/fromnumeric.py:3432: RuntimeWarning: Mean of empty slice.\n",
            "  return _methods._mean(a, axis=axis, dtype=dtype,\n",
            "/usr/local/lib/python3.10/dist-packages/numpy/core/_methods.py:190: RuntimeWarning: invalid value encountered in double_scalars\n",
            "  ret = ret.dtype.type(ret / rcount)\n"
          ]
        },
        {
          "output_type": "stream",
          "name": "stdout",
          "text": [
            "Mean Filtered Similarity Score: nan\n",
            "The current input_phrase is Croque Madame\n",
            "Mean Filtered Similarity Score: 0.40686864\n",
            "The current input_phrase is French Onion Soup\n",
            "Mean Filtered Similarity Score: 0.84218615\n",
            "The current input_phrase is Beef Carpaccio\n"
          ]
        },
        {
          "output_type": "stream",
          "name": "stderr",
          "text": [
            "/usr/local/lib/python3.10/dist-packages/numpy/core/fromnumeric.py:3432: RuntimeWarning: Mean of empty slice.\n",
            "  return _methods._mean(a, axis=axis, dtype=dtype,\n",
            "/usr/local/lib/python3.10/dist-packages/numpy/core/_methods.py:190: RuntimeWarning: invalid value encountered in double_scalars\n",
            "  ret = ret.dtype.type(ret / rcount)\n"
          ]
        },
        {
          "output_type": "stream",
          "name": "stdout",
          "text": [
            "Mean Filtered Similarity Score: nan\n",
            "The current input_phrase is Torte\n",
            "Mean Filtered Similarity Score: 0.5684113\n",
            "The current input_phrase is Poi\n",
            "Mean Filtered Similarity Score: -0.043069847\n",
            "The current input_phrase is Crab Food\n"
          ]
        },
        {
          "output_type": "stream",
          "name": "stderr",
          "text": [
            "/usr/local/lib/python3.10/dist-packages/numpy/core/fromnumeric.py:3432: RuntimeWarning: Mean of empty slice.\n",
            "  return _methods._mean(a, axis=axis, dtype=dtype,\n",
            "/usr/local/lib/python3.10/dist-packages/numpy/core/_methods.py:190: RuntimeWarning: invalid value encountered in double_scalars\n",
            "  ret = ret.dtype.type(ret / rcount)\n"
          ]
        },
        {
          "output_type": "stream",
          "name": "stdout",
          "text": [
            "Mean Filtered Similarity Score: nan\n",
            "The current input_phrase is Bacon And Eggs\n",
            "Mean Filtered Similarity Score: 0.5385081\n",
            "The current input_phrase is Coffee Cake\n",
            "Mean Filtered Similarity Score: 0.7124183\n",
            "The current input_phrase is Custard\n",
            "Mean Filtered Similarity Score: 0.4489015\n",
            "The current input_phrase is Syllabub\n"
          ]
        },
        {
          "output_type": "stream",
          "name": "stderr",
          "text": [
            "/usr/local/lib/python3.10/dist-packages/numpy/core/fromnumeric.py:3432: RuntimeWarning: Mean of empty slice.\n",
            "  return _methods._mean(a, axis=axis, dtype=dtype,\n",
            "/usr/local/lib/python3.10/dist-packages/numpy/core/_methods.py:190: RuntimeWarning: invalid value encountered in double_scalars\n",
            "  ret = ret.dtype.type(ret / rcount)\n"
          ]
        },
        {
          "output_type": "stream",
          "name": "stdout",
          "text": [
            "Mean Filtered Similarity Score: nan\n",
            "The current input_phrase is Pork Chop\n",
            "Mean Filtered Similarity Score: 0.46393648\n",
            "The current input_phrase is Fried Rice\n",
            "Mean Filtered Similarity Score: 0.6196225\n",
            "The current input_phrase is Boiled Egg\n",
            "Mean Filtered Similarity Score: 0.49371734\n",
            "The current input_phrase is Galantine\n"
          ]
        },
        {
          "output_type": "stream",
          "name": "stderr",
          "text": [
            "/usr/local/lib/python3.10/dist-packages/numpy/core/fromnumeric.py:3432: RuntimeWarning: Mean of empty slice.\n",
            "  return _methods._mean(a, axis=axis, dtype=dtype,\n",
            "/usr/local/lib/python3.10/dist-packages/numpy/core/_methods.py:190: RuntimeWarning: invalid value encountered in double_scalars\n",
            "  ret = ret.dtype.type(ret / rcount)\n"
          ]
        },
        {
          "output_type": "stream",
          "name": "stdout",
          "text": [
            "Mean Filtered Similarity Score: nan\n",
            "The current input_phrase is Brisket\n",
            "Mean Filtered Similarity Score: 0.5805764\n",
            "The current input_phrase is Reuben\n",
            "Mean Filtered Similarity Score: 0.6706168\n",
            "The current input_phrase is Schnitzel\n",
            "Mean Filtered Similarity Score: 0.6554184\n",
            "The current input_phrase is Ambrosia Food\n"
          ]
        },
        {
          "output_type": "stream",
          "name": "stderr",
          "text": [
            "/usr/local/lib/python3.10/dist-packages/numpy/core/fromnumeric.py:3432: RuntimeWarning: Mean of empty slice.\n",
            "  return _methods._mean(a, axis=axis, dtype=dtype,\n",
            "/usr/local/lib/python3.10/dist-packages/numpy/core/_methods.py:190: RuntimeWarning: invalid value encountered in double_scalars\n",
            "  ret = ret.dtype.type(ret / rcount)\n"
          ]
        },
        {
          "output_type": "stream",
          "name": "stdout",
          "text": [
            "Mean Filtered Similarity Score: nan\n",
            "The current input_phrase is Gyoza\n",
            "Mean Filtered Similarity Score: -0.038593266\n",
            "The current input_phrase is Jerky\n"
          ]
        },
        {
          "output_type": "stream",
          "name": "stderr",
          "text": [
            "/usr/local/lib/python3.10/dist-packages/numpy/core/fromnumeric.py:3432: RuntimeWarning: Mean of empty slice.\n",
            "  return _methods._mean(a, axis=axis, dtype=dtype,\n",
            "/usr/local/lib/python3.10/dist-packages/numpy/core/_methods.py:190: RuntimeWarning: invalid value encountered in double_scalars\n",
            "  ret = ret.dtype.type(ret / rcount)\n"
          ]
        },
        {
          "output_type": "stream",
          "name": "stdout",
          "text": [
            "Mean Filtered Similarity Score: nan\n",
            "The current input_phrase is Ravioli\n",
            "Mean Filtered Similarity Score: 0.46309662\n",
            "The current input_phrase is Fried Calamari\n"
          ]
        },
        {
          "output_type": "stream",
          "name": "stderr",
          "text": [
            "/usr/local/lib/python3.10/dist-packages/numpy/core/fromnumeric.py:3432: RuntimeWarning: Mean of empty slice.\n",
            "  return _methods._mean(a, axis=axis, dtype=dtype,\n",
            "/usr/local/lib/python3.10/dist-packages/numpy/core/_methods.py:190: RuntimeWarning: invalid value encountered in double_scalars\n",
            "  ret = ret.dtype.type(ret / rcount)\n"
          ]
        },
        {
          "output_type": "stream",
          "name": "stdout",
          "text": [
            "Mean Filtered Similarity Score: nan\n",
            "The current input_phrase is Spaghetti Carbonara\n",
            "Mean Filtered Similarity Score: 0.50475687\n",
            "The current input_phrase is Miso Soup\n",
            "Mean Filtered Similarity Score: 0.7420543\n",
            "The current input_phrase is Frozen Yogurt\n",
            "Mean Filtered Similarity Score: 0.80961263\n",
            "The current input_phrase is Wonton\n",
            "Mean Filtered Similarity Score: 0.40008175\n",
            "The current input_phrase is Panna Cotta\n",
            "Mean Filtered Similarity Score: 0.6291312\n",
            "The current input_phrase is French Toast\n",
            "Mean Filtered Similarity Score: 0.7442141\n",
            "The current input_phrase is Enchilada\n",
            "Mean Filtered Similarity Score: 0.3950045\n",
            "The current input_phrase is Ceviche\n",
            "Mean Filtered Similarity Score: 0.61571854\n",
            "The current input_phrase is Fettuccine\n",
            "Mean Filtered Similarity Score: 0.57521623\n",
            "The current input_phrase is Chili\n",
            "Mean Filtered Similarity Score: 0.67785233\n",
            "The current input_phrase is Flan\n",
            "Mean Filtered Similarity Score: 0.511279\n",
            "The current input_phrase is Kabob\n"
          ]
        },
        {
          "output_type": "stream",
          "name": "stderr",
          "text": [
            "/usr/local/lib/python3.10/dist-packages/numpy/core/fromnumeric.py:3432: RuntimeWarning: Mean of empty slice.\n",
            "  return _methods._mean(a, axis=axis, dtype=dtype,\n",
            "/usr/local/lib/python3.10/dist-packages/numpy/core/_methods.py:190: RuntimeWarning: invalid value encountered in double_scalars\n",
            "  ret = ret.dtype.type(ret / rcount)\n"
          ]
        },
        {
          "output_type": "stream",
          "name": "stdout",
          "text": [
            "Mean Filtered Similarity Score: nan\n",
            "The current input_phrase is Sponge Cake\n",
            "Mean Filtered Similarity Score: 0.6043656\n",
            "The current input_phrase is Casserole\n",
            "Mean Filtered Similarity Score: 0.59492236\n",
            "The current input_phrase is Paella\n",
            "Mean Filtered Similarity Score: 0.5193449\n",
            "The current input_phrase is Blancmange\n",
            "Mean Filtered Similarity Score: 0.07098623\n",
            "The current input_phrase is Bruschetta\n",
            "Mean Filtered Similarity Score: 0.5992861\n",
            "The current input_phrase is Tortellini\n",
            "Mean Filtered Similarity Score: 0.4937032\n",
            "The current input_phrase is Grilled Salmon\n",
            "Mean Filtered Similarity Score: 0.5865902\n",
            "The current input_phrase is French Fries\n",
            "Mean Filtered Similarity Score: 0.82282287\n",
            "The current input_phrase is Shrimp And Grits\n",
            "Mean Filtered Similarity Score: 0.74640507\n",
            "The current input_phrase is Churro\n",
            "Mean Filtered Similarity Score: 0.06298435\n",
            "The current input_phrase is Donut\n",
            "Mean Filtered Similarity Score: 0.599295\n",
            "The current input_phrase is Meat Loaf Food\n"
          ]
        },
        {
          "output_type": "stream",
          "name": "stderr",
          "text": [
            "/usr/local/lib/python3.10/dist-packages/numpy/core/fromnumeric.py:3432: RuntimeWarning: Mean of empty slice.\n",
            "  return _methods._mean(a, axis=axis, dtype=dtype,\n",
            "/usr/local/lib/python3.10/dist-packages/numpy/core/_methods.py:190: RuntimeWarning: invalid value encountered in double_scalars\n",
            "  ret = ret.dtype.type(ret / rcount)\n"
          ]
        },
        {
          "output_type": "stream",
          "name": "stdout",
          "text": [
            "Mean Filtered Similarity Score: nan\n",
            "The current input_phrase is Meatball\n",
            "Mean Filtered Similarity Score: 0.39692533\n",
            "The current input_phrase is Scrapple\n"
          ]
        },
        {
          "output_type": "stream",
          "name": "stderr",
          "text": [
            "/usr/local/lib/python3.10/dist-packages/numpy/core/fromnumeric.py:3432: RuntimeWarning: Mean of empty slice.\n",
            "  return _methods._mean(a, axis=axis, dtype=dtype,\n",
            "/usr/local/lib/python3.10/dist-packages/numpy/core/_methods.py:190: RuntimeWarning: invalid value encountered in double_scalars\n",
            "  ret = ret.dtype.type(ret / rcount)\n"
          ]
        },
        {
          "output_type": "stream",
          "name": "stdout",
          "text": [
            "Mean Filtered Similarity Score: nan\n",
            "The current input_phrase is Strudel\n",
            "Mean Filtered Similarity Score: 0.518404\n",
            "The current input_phrase is Coconut Cake\n",
            "Mean Filtered Similarity Score: 0.74469334\n",
            "The current input_phrase is Marble Cake\n",
            "Mean Filtered Similarity Score: 0.81975543\n",
            "The current input_phrase is Filet Mignon\n",
            "Mean Filtered Similarity Score: 0.6168199\n",
            "The current input_phrase is Hamburger\n",
            "Mean Filtered Similarity Score: 0.5689022\n",
            "The current input_phrase is Fried Egg\n",
            "Mean Filtered Similarity Score: 0.5011296\n",
            "The current input_phrase is Tuna Tartare\n"
          ]
        },
        {
          "output_type": "stream",
          "name": "stderr",
          "text": [
            "/usr/local/lib/python3.10/dist-packages/numpy/core/fromnumeric.py:3432: RuntimeWarning: Mean of empty slice.\n",
            "  return _methods._mean(a, axis=axis, dtype=dtype,\n",
            "/usr/local/lib/python3.10/dist-packages/numpy/core/_methods.py:190: RuntimeWarning: invalid value encountered in double_scalars\n",
            "  ret = ret.dtype.type(ret / rcount)\n"
          ]
        },
        {
          "output_type": "stream",
          "name": "stdout",
          "text": [
            "Mean Filtered Similarity Score: nan\n",
            "The current input_phrase is Penne\n",
            "Mean Filtered Similarity Score: 0.5666667\n",
            "The current input_phrase is Eggs Benedict\n",
            "Mean Filtered Similarity Score: 0.8175301\n",
            "The current input_phrase is Bread Pudding\n",
            "Mean Filtered Similarity Score: 0.5283877\n",
            "The current input_phrase is Takoyaki\n"
          ]
        },
        {
          "output_type": "stream",
          "name": "stderr",
          "text": [
            "/usr/local/lib/python3.10/dist-packages/numpy/core/fromnumeric.py:3432: RuntimeWarning: Mean of empty slice.\n",
            "  return _methods._mean(a, axis=axis, dtype=dtype,\n",
            "/usr/local/lib/python3.10/dist-packages/numpy/core/_methods.py:190: RuntimeWarning: invalid value encountered in double_scalars\n",
            "  ret = ret.dtype.type(ret / rcount)\n"
          ]
        },
        {
          "output_type": "stream",
          "name": "stdout",
          "text": [
            "Mean Filtered Similarity Score: nan\n",
            "The current input_phrase is Tenderloin\n",
            "Mean Filtered Similarity Score: 0.6022885\n",
            "The current input_phrase is Chocolate Mousse\n",
            "Mean Filtered Similarity Score: 0.58761615\n",
            "The current input_phrase is Baked Alaska\n",
            "Mean Filtered Similarity Score: 0.8208091\n",
            "The current input_phrase is Hot Dog\n",
            "Mean Filtered Similarity Score: 0.6386292\n",
            "The current input_phrase is Confit\n",
            "Mean Filtered Similarity Score: 0.5806259\n",
            "The current input_phrase is Ham And Eggs\n"
          ]
        },
        {
          "output_type": "stream",
          "name": "stderr",
          "text": [
            "/usr/local/lib/python3.10/dist-packages/numpy/core/fromnumeric.py:3432: RuntimeWarning: Mean of empty slice.\n",
            "  return _methods._mean(a, axis=axis, dtype=dtype,\n",
            "/usr/local/lib/python3.10/dist-packages/numpy/core/_methods.py:190: RuntimeWarning: invalid value encountered in double_scalars\n",
            "  ret = ret.dtype.type(ret / rcount)\n"
          ]
        },
        {
          "output_type": "stream",
          "name": "stdout",
          "text": [
            "Mean Filtered Similarity Score: nan\n",
            "The current input_phrase is Biryani\n"
          ]
        },
        {
          "output_type": "stream",
          "name": "stderr",
          "text": [
            "/usr/local/lib/python3.10/dist-packages/numpy/core/fromnumeric.py:3432: RuntimeWarning: Mean of empty slice.\n",
            "  return _methods._mean(a, axis=axis, dtype=dtype,\n",
            "/usr/local/lib/python3.10/dist-packages/numpy/core/_methods.py:190: RuntimeWarning: invalid value encountered in double_scalars\n",
            "  ret = ret.dtype.type(ret / rcount)\n"
          ]
        },
        {
          "output_type": "stream",
          "name": "stdout",
          "text": [
            "Mean Filtered Similarity Score: nan\n",
            "The current input_phrase is Greek Salad\n",
            "Mean Filtered Similarity Score: 0.68454933\n",
            "The current input_phrase is Huevos Rancheros\n",
            "Mean Filtered Similarity Score: 0.79726183\n",
            "The current input_phrase is Tagliatelle\n",
            "Mean Filtered Similarity Score: 0.56722647\n",
            "The current input_phrase is Stuffed Peppers\n",
            "Mean Filtered Similarity Score: 0.75298434\n",
            "The current input_phrase is Cannelloni\n",
            "Mean Filtered Similarity Score: 0.478599\n",
            "The current input_phrase is Pizza\n",
            "Mean Filtered Similarity Score: 0.69730026\n",
            "The current input_phrase is Sausage Roll\n",
            "Mean Filtered Similarity Score: 0.24859436\n",
            "The current input_phrase is Chicken Quesadilla\n"
          ]
        },
        {
          "output_type": "stream",
          "name": "stderr",
          "text": [
            "/usr/local/lib/python3.10/dist-packages/numpy/core/fromnumeric.py:3432: RuntimeWarning: Mean of empty slice.\n",
            "  return _methods._mean(a, axis=axis, dtype=dtype,\n",
            "/usr/local/lib/python3.10/dist-packages/numpy/core/_methods.py:190: RuntimeWarning: invalid value encountered in double_scalars\n",
            "  ret = ret.dtype.type(ret / rcount)\n"
          ]
        },
        {
          "output_type": "stream",
          "name": "stdout",
          "text": [
            "Mean Filtered Similarity Score: nan\n",
            "The current input_phrase is Hot And Sour Soup\n"
          ]
        },
        {
          "output_type": "stream",
          "name": "stderr",
          "text": [
            "/usr/local/lib/python3.10/dist-packages/numpy/core/fromnumeric.py:3432: RuntimeWarning: Mean of empty slice.\n",
            "  return _methods._mean(a, axis=axis, dtype=dtype,\n",
            "/usr/local/lib/python3.10/dist-packages/numpy/core/_methods.py:190: RuntimeWarning: invalid value encountered in double_scalars\n",
            "  ret = ret.dtype.type(ret / rcount)\n"
          ]
        },
        {
          "output_type": "stream",
          "name": "stdout",
          "text": [
            "Mean Filtered Similarity Score: nan\n",
            "The current input_phrase is Prime Rib\n",
            "Mean Filtered Similarity Score: 0.5346775\n",
            "The current input_phrase is Cheesecake\n",
            "Mean Filtered Similarity Score: 0.6663741\n",
            "The current input_phrase is Limpet Food\n"
          ]
        },
        {
          "output_type": "stream",
          "name": "stderr",
          "text": [
            "/usr/local/lib/python3.10/dist-packages/numpy/core/fromnumeric.py:3432: RuntimeWarning: Mean of empty slice.\n",
            "  return _methods._mean(a, axis=axis, dtype=dtype,\n",
            "/usr/local/lib/python3.10/dist-packages/numpy/core/_methods.py:190: RuntimeWarning: invalid value encountered in double_scalars\n",
            "  ret = ret.dtype.type(ret / rcount)\n"
          ]
        },
        {
          "output_type": "stream",
          "name": "stdout",
          "text": [
            "Mean Filtered Similarity Score: nan\n",
            "The current input_phrase is Ziti\n",
            "Mean Filtered Similarity Score: 0.6145982\n",
            "The current input_phrase is Mussel\n",
            "Mean Filtered Similarity Score: 0.42370996\n",
            "The current input_phrase is Manicotti\n",
            "Mean Filtered Similarity Score: 0.9053149\n",
            "The current input_phrase is Ice Cream\n",
            "Mean Filtered Similarity Score: 0.51063275\n",
            "The current input_phrase is Waffle\n",
            "Mean Filtered Similarity Score: 0.4128223\n",
            "The current input_phrase is Oyster\n",
            "Mean Filtered Similarity Score: 0.39408886\n",
            "The current input_phrase is Omelette\n",
            "Mean Filtered Similarity Score: 0.71362853\n",
            "The current input_phrase is Clam Food\n"
          ]
        },
        {
          "output_type": "stream",
          "name": "stderr",
          "text": [
            "/usr/local/lib/python3.10/dist-packages/numpy/core/fromnumeric.py:3432: RuntimeWarning: Mean of empty slice.\n",
            "  return _methods._mean(a, axis=axis, dtype=dtype,\n",
            "/usr/local/lib/python3.10/dist-packages/numpy/core/_methods.py:190: RuntimeWarning: invalid value encountered in double_scalars\n",
            "  ret = ret.dtype.type(ret / rcount)\n"
          ]
        },
        {
          "output_type": "stream",
          "name": "stdout",
          "text": [
            "Mean Filtered Similarity Score: nan\n",
            "The current input_phrase is Burrito\n",
            "Mean Filtered Similarity Score: 0.47834787\n",
            "The current input_phrase is Roulade\n",
            "Mean Filtered Similarity Score: 0.5165141\n",
            "The current input_phrase is Lobster Bisque\n"
          ]
        },
        {
          "output_type": "stream",
          "name": "stderr",
          "text": [
            "/usr/local/lib/python3.10/dist-packages/numpy/core/fromnumeric.py:3432: RuntimeWarning: Mean of empty slice.\n",
            "  return _methods._mean(a, axis=axis, dtype=dtype,\n",
            "/usr/local/lib/python3.10/dist-packages/numpy/core/_methods.py:190: RuntimeWarning: invalid value encountered in double_scalars\n",
            "  ret = ret.dtype.type(ret / rcount)\n"
          ]
        },
        {
          "output_type": "stream",
          "name": "stdout",
          "text": [
            "Mean Filtered Similarity Score: nan\n",
            "The current input_phrase is Grilled Cheese Sandwich\n",
            "Mean Filtered Similarity Score: 0.6027091\n",
            "The current input_phrase is Gyro\n",
            "Mean Filtered Similarity Score: 0.0329904\n",
            "The current input_phrase is Pound Cake\n",
            "Mean Filtered Similarity Score: 0.5325359\n",
            "The current input_phrase is Pho\n",
            "Mean Filtered Similarity Score: 0.45081323\n",
            "The current input_phrase is Lobster Roll Sandwich\n"
          ]
        },
        {
          "output_type": "stream",
          "name": "stderr",
          "text": [
            "/usr/local/lib/python3.10/dist-packages/numpy/core/fromnumeric.py:3432: RuntimeWarning: Mean of empty slice.\n",
            "  return _methods._mean(a, axis=axis, dtype=dtype,\n",
            "/usr/local/lib/python3.10/dist-packages/numpy/core/_methods.py:190: RuntimeWarning: invalid value encountered in double_scalars\n",
            "  ret = ret.dtype.type(ret / rcount)\n"
          ]
        },
        {
          "output_type": "stream",
          "name": "stdout",
          "text": [
            "Mean Filtered Similarity Score: nan\n",
            "The current input_phrase is Baby Back Rib\n",
            "Mean Filtered Similarity Score: 0.087887146\n",
            "The current input_phrase is Tapenade\n",
            "Mean Filtered Similarity Score: 0.47707358\n",
            "The current input_phrase is Pepper Steak\n",
            "Mean Filtered Similarity Score: 0.6675398\n",
            "The current input_phrase is Welsh Rarebit\n"
          ]
        },
        {
          "output_type": "stream",
          "name": "stderr",
          "text": [
            "/usr/local/lib/python3.10/dist-packages/numpy/core/fromnumeric.py:3432: RuntimeWarning: Mean of empty slice.\n",
            "  return _methods._mean(a, axis=axis, dtype=dtype,\n",
            "/usr/local/lib/python3.10/dist-packages/numpy/core/_methods.py:190: RuntimeWarning: invalid value encountered in double_scalars\n",
            "  ret = ret.dtype.type(ret / rcount)\n"
          ]
        },
        {
          "output_type": "stream",
          "name": "stdout",
          "text": [
            "Mean Filtered Similarity Score: nan\n",
            "The current input_phrase is Pilaf\n",
            "Mean Filtered Similarity Score: 0.5164919\n",
            "The current input_phrase is Dolmas\n"
          ]
        },
        {
          "output_type": "stream",
          "name": "stderr",
          "text": [
            "/usr/local/lib/python3.10/dist-packages/numpy/core/fromnumeric.py:3432: RuntimeWarning: Mean of empty slice.\n",
            "  return _methods._mean(a, axis=axis, dtype=dtype,\n",
            "/usr/local/lib/python3.10/dist-packages/numpy/core/_methods.py:190: RuntimeWarning: invalid value encountered in double_scalars\n",
            "  ret = ret.dtype.type(ret / rcount)\n"
          ]
        },
        {
          "output_type": "stream",
          "name": "stdout",
          "text": [
            "Mean Filtered Similarity Score: nan\n",
            "The current input_phrase is Coquilles Saint Jacques\n"
          ]
        },
        {
          "output_type": "stream",
          "name": "stderr",
          "text": [
            "/usr/local/lib/python3.10/dist-packages/numpy/core/fromnumeric.py:3432: RuntimeWarning: Mean of empty slice.\n",
            "  return _methods._mean(a, axis=axis, dtype=dtype,\n",
            "/usr/local/lib/python3.10/dist-packages/numpy/core/_methods.py:190: RuntimeWarning: invalid value encountered in double_scalars\n",
            "  ret = ret.dtype.type(ret / rcount)\n"
          ]
        },
        {
          "output_type": "stream",
          "name": "stdout",
          "text": [
            "Mean Filtered Similarity Score: nan\n",
            "The current input_phrase is Veal Cordon Bleu\n"
          ]
        },
        {
          "output_type": "stream",
          "name": "stderr",
          "text": [
            "/usr/local/lib/python3.10/dist-packages/numpy/core/fromnumeric.py:3432: RuntimeWarning: Mean of empty slice.\n",
            "  return _methods._mean(a, axis=axis, dtype=dtype,\n",
            "/usr/local/lib/python3.10/dist-packages/numpy/core/_methods.py:190: RuntimeWarning: invalid value encountered in double_scalars\n",
            "  ret = ret.dtype.type(ret / rcount)\n"
          ]
        },
        {
          "output_type": "stream",
          "name": "stdout",
          "text": [
            "Mean Filtered Similarity Score: nan\n",
            "The current input_phrase is Shirred Egg\n",
            "Mean Filtered Similarity Score: 0.45036352\n",
            "The current input_phrase is Barbecued Wing\n"
          ]
        },
        {
          "output_type": "stream",
          "name": "stderr",
          "text": [
            "/usr/local/lib/python3.10/dist-packages/numpy/core/fromnumeric.py:3432: RuntimeWarning: Mean of empty slice.\n",
            "  return _methods._mean(a, axis=axis, dtype=dtype,\n",
            "/usr/local/lib/python3.10/dist-packages/numpy/core/_methods.py:190: RuntimeWarning: invalid value encountered in double_scalars\n",
            "  ret = ret.dtype.type(ret / rcount)\n"
          ]
        },
        {
          "output_type": "stream",
          "name": "stdout",
          "text": [
            "Mean Filtered Similarity Score: nan\n",
            "The current input_phrase is Lobster Thermidor\n"
          ]
        },
        {
          "output_type": "stream",
          "name": "stderr",
          "text": [
            "/usr/local/lib/python3.10/dist-packages/numpy/core/fromnumeric.py:3432: RuntimeWarning: Mean of empty slice.\n",
            "  return _methods._mean(a, axis=axis, dtype=dtype,\n",
            "/usr/local/lib/python3.10/dist-packages/numpy/core/_methods.py:190: RuntimeWarning: invalid value encountered in double_scalars\n",
            "  ret = ret.dtype.type(ret / rcount)\n"
          ]
        },
        {
          "output_type": "stream",
          "name": "stdout",
          "text": [
            "Mean Filtered Similarity Score: nan\n",
            "The current input_phrase is Steak Au Poivre\n",
            "Mean Filtered Similarity Score: 0.77197725\n",
            "The current input_phrase is Huitre\n"
          ]
        },
        {
          "output_type": "stream",
          "name": "stderr",
          "text": [
            "/usr/local/lib/python3.10/dist-packages/numpy/core/fromnumeric.py:3432: RuntimeWarning: Mean of empty slice.\n",
            "  return _methods._mean(a, axis=axis, dtype=dtype,\n",
            "/usr/local/lib/python3.10/dist-packages/numpy/core/_methods.py:190: RuntimeWarning: invalid value encountered in double_scalars\n",
            "  ret = ret.dtype.type(ret / rcount)\n"
          ]
        },
        {
          "output_type": "stream",
          "name": "stdout",
          "text": [
            "Mean Filtered Similarity Score: nan\n",
            "The current input_phrase is Chiffon Cake\n",
            "Mean Filtered Similarity Score: 0.61083186\n",
            "The current input_phrase is Profiterole\n",
            "Mean Filtered Similarity Score: -0.034995083\n",
            "The current input_phrase is Toad In The Hole\n"
          ]
        },
        {
          "output_type": "stream",
          "name": "stderr",
          "text": [
            "/usr/local/lib/python3.10/dist-packages/numpy/core/fromnumeric.py:3432: RuntimeWarning: Mean of empty slice.\n",
            "  return _methods._mean(a, axis=axis, dtype=dtype,\n",
            "/usr/local/lib/python3.10/dist-packages/numpy/core/_methods.py:190: RuntimeWarning: invalid value encountered in double_scalars\n",
            "  ret = ret.dtype.type(ret / rcount)\n"
          ]
        },
        {
          "output_type": "stream",
          "name": "stdout",
          "text": [
            "Mean Filtered Similarity Score: nan\n",
            "The current input_phrase is Chicken Marengo\n"
          ]
        },
        {
          "output_type": "stream",
          "name": "stderr",
          "text": [
            "/usr/local/lib/python3.10/dist-packages/numpy/core/fromnumeric.py:3432: RuntimeWarning: Mean of empty slice.\n",
            "  return _methods._mean(a, axis=axis, dtype=dtype,\n",
            "/usr/local/lib/python3.10/dist-packages/numpy/core/_methods.py:190: RuntimeWarning: invalid value encountered in double_scalars\n",
            "  ret = ret.dtype.type(ret / rcount)\n"
          ]
        },
        {
          "output_type": "stream",
          "name": "stdout",
          "text": [
            "Mean Filtered Similarity Score: nan\n",
            "The current input_phrase is Victoria Sandwich\n"
          ]
        },
        {
          "output_type": "stream",
          "name": "stderr",
          "text": [
            "/usr/local/lib/python3.10/dist-packages/numpy/core/fromnumeric.py:3432: RuntimeWarning: Mean of empty slice.\n",
            "  return _methods._mean(a, axis=axis, dtype=dtype,\n",
            "/usr/local/lib/python3.10/dist-packages/numpy/core/_methods.py:190: RuntimeWarning: invalid value encountered in double_scalars\n",
            "  ret = ret.dtype.type(ret / rcount)\n"
          ]
        },
        {
          "output_type": "stream",
          "name": "stdout",
          "text": [
            "Mean Filtered Similarity Score: nan\n",
            "The current input_phrase is Tamale Pie\n",
            "Mean Filtered Similarity Score: 0.68883264\n",
            "The current input_phrase is Boston Cream Pie\n"
          ]
        },
        {
          "output_type": "stream",
          "name": "stderr",
          "text": [
            "/usr/local/lib/python3.10/dist-packages/numpy/core/fromnumeric.py:3432: RuntimeWarning: Mean of empty slice.\n",
            "  return _methods._mean(a, axis=axis, dtype=dtype,\n",
            "/usr/local/lib/python3.10/dist-packages/numpy/core/_methods.py:190: RuntimeWarning: invalid value encountered in double_scalars\n",
            "  ret = ret.dtype.type(ret / rcount)\n"
          ]
        },
        {
          "output_type": "stream",
          "name": "stdout",
          "text": [
            "Mean Filtered Similarity Score: nan\n",
            "The current input_phrase is Fish Stick\n",
            "Mean Filtered Similarity Score: 0.39720953\n",
            "The current input_phrase is Crumb Cake\n",
            "Mean Filtered Similarity Score: 0.6937857\n",
            "The current input_phrase is Chicken Provencale\n"
          ]
        },
        {
          "output_type": "stream",
          "name": "stderr",
          "text": [
            "/usr/local/lib/python3.10/dist-packages/numpy/core/fromnumeric.py:3432: RuntimeWarning: Mean of empty slice.\n",
            "  return _methods._mean(a, axis=axis, dtype=dtype,\n",
            "/usr/local/lib/python3.10/dist-packages/numpy/core/_methods.py:190: RuntimeWarning: invalid value encountered in double_scalars\n",
            "  ret = ret.dtype.type(ret / rcount)\n"
          ]
        },
        {
          "output_type": "stream",
          "name": "stdout",
          "text": [
            "Mean Filtered Similarity Score: nan\n",
            "The current input_phrase is Vol Au Vent\n"
          ]
        },
        {
          "output_type": "stream",
          "name": "stderr",
          "text": [
            "/usr/local/lib/python3.10/dist-packages/numpy/core/fromnumeric.py:3432: RuntimeWarning: Mean of empty slice.\n",
            "  return _methods._mean(a, axis=axis, dtype=dtype,\n",
            "/usr/local/lib/python3.10/dist-packages/numpy/core/_methods.py:190: RuntimeWarning: invalid value encountered in double_scalars\n",
            "  ret = ret.dtype.type(ret / rcount)\n"
          ]
        },
        {
          "output_type": "stream",
          "name": "stdout",
          "text": [
            "Mean Filtered Similarity Score: nan\n",
            "The current input_phrase is Entrecote\n"
          ]
        },
        {
          "output_type": "stream",
          "name": "stderr",
          "text": [
            "/usr/local/lib/python3.10/dist-packages/numpy/core/fromnumeric.py:3432: RuntimeWarning: Mean of empty slice.\n",
            "  return _methods._mean(a, axis=axis, dtype=dtype,\n",
            "/usr/local/lib/python3.10/dist-packages/numpy/core/_methods.py:190: RuntimeWarning: invalid value encountered in double_scalars\n",
            "  ret = ret.dtype.type(ret / rcount)\n"
          ]
        },
        {
          "output_type": "stream",
          "name": "stdout",
          "text": [
            "Mean Filtered Similarity Score: nan\n",
            "The current input_phrase is Carbonnade Flamande\n"
          ]
        },
        {
          "output_type": "stream",
          "name": "stderr",
          "text": [
            "/usr/local/lib/python3.10/dist-packages/numpy/core/fromnumeric.py:3432: RuntimeWarning: Mean of empty slice.\n",
            "  return _methods._mean(a, axis=axis, dtype=dtype,\n",
            "/usr/local/lib/python3.10/dist-packages/numpy/core/_methods.py:190: RuntimeWarning: invalid value encountered in double_scalars\n",
            "  ret = ret.dtype.type(ret / rcount)\n"
          ]
        },
        {
          "output_type": "stream",
          "name": "stdout",
          "text": [
            "Mean Filtered Similarity Score: nan\n",
            "The current input_phrase is Bacon Lettuce Tomato Sandwich\n"
          ]
        },
        {
          "output_type": "stream",
          "name": "stderr",
          "text": [
            "/usr/local/lib/python3.10/dist-packages/numpy/core/fromnumeric.py:3432: RuntimeWarning: Mean of empty slice.\n",
            "  return _methods._mean(a, axis=axis, dtype=dtype,\n",
            "/usr/local/lib/python3.10/dist-packages/numpy/core/_methods.py:190: RuntimeWarning: invalid value encountered in double_scalars\n",
            "  ret = ret.dtype.type(ret / rcount)\n"
          ]
        },
        {
          "output_type": "stream",
          "name": "stdout",
          "text": [
            "Mean Filtered Similarity Score: nan\n",
            "The current input_phrase is Scotch Egg\n",
            "Mean Filtered Similarity Score: 0.8049885\n",
            "The current input_phrase is Pirogi\n"
          ]
        },
        {
          "output_type": "stream",
          "name": "stderr",
          "text": [
            "/usr/local/lib/python3.10/dist-packages/numpy/core/fromnumeric.py:3432: RuntimeWarning: Mean of empty slice.\n",
            "  return _methods._mean(a, axis=axis, dtype=dtype,\n",
            "/usr/local/lib/python3.10/dist-packages/numpy/core/_methods.py:190: RuntimeWarning: invalid value encountered in double_scalars\n",
            "  ret = ret.dtype.type(ret / rcount)\n"
          ]
        },
        {
          "output_type": "stream",
          "name": "stdout",
          "text": [
            "Mean Filtered Similarity Score: nan\n",
            "The current input_phrase is Peach Melba\n",
            "Mean Filtered Similarity Score: 0.89705163\n",
            "The current input_phrase is Upside Down Cake\n",
            "Mean Filtered Similarity Score: 0.697907\n",
            "The current input_phrase is Applesauce Cake\n"
          ]
        },
        {
          "output_type": "stream",
          "name": "stderr",
          "text": [
            "/usr/local/lib/python3.10/dist-packages/numpy/core/fromnumeric.py:3432: RuntimeWarning: Mean of empty slice.\n",
            "  return _methods._mean(a, axis=axis, dtype=dtype,\n",
            "/usr/local/lib/python3.10/dist-packages/numpy/core/_methods.py:190: RuntimeWarning: invalid value encountered in double_scalars\n",
            "  ret = ret.dtype.type(ret / rcount)\n"
          ]
        },
        {
          "output_type": "stream",
          "name": "stdout",
          "text": [
            "Mean Filtered Similarity Score: nan\n",
            "The current input_phrase is Rugulah\n"
          ]
        },
        {
          "output_type": "stream",
          "name": "stderr",
          "text": [
            "/usr/local/lib/python3.10/dist-packages/numpy/core/fromnumeric.py:3432: RuntimeWarning: Mean of empty slice.\n",
            "  return _methods._mean(a, axis=axis, dtype=dtype,\n",
            "/usr/local/lib/python3.10/dist-packages/numpy/core/_methods.py:190: RuntimeWarning: invalid value encountered in double_scalars\n",
            "  ret = ret.dtype.type(ret / rcount)\n"
          ]
        },
        {
          "output_type": "stream",
          "name": "stdout",
          "text": [
            "Mean Filtered Similarity Score: nan\n",
            "The current input_phrase is Rock Cake\n"
          ]
        },
        {
          "output_type": "stream",
          "name": "stderr",
          "text": [
            "/usr/local/lib/python3.10/dist-packages/numpy/core/fromnumeric.py:3432: RuntimeWarning: Mean of empty slice.\n",
            "  return _methods._mean(a, axis=axis, dtype=dtype,\n",
            "/usr/local/lib/python3.10/dist-packages/numpy/core/_methods.py:190: RuntimeWarning: invalid value encountered in double_scalars\n",
            "  ret = ret.dtype.type(ret / rcount)\n"
          ]
        },
        {
          "output_type": "stream",
          "name": "stdout",
          "text": [
            "Mean Filtered Similarity Score: nan\n",
            "The current input_phrase is Barbecued Spareribs\n"
          ]
        },
        {
          "output_type": "stream",
          "name": "stderr",
          "text": [
            "/usr/local/lib/python3.10/dist-packages/numpy/core/fromnumeric.py:3432: RuntimeWarning: Mean of empty slice.\n",
            "  return _methods._mean(a, axis=axis, dtype=dtype,\n",
            "/usr/local/lib/python3.10/dist-packages/numpy/core/_methods.py:190: RuntimeWarning: invalid value encountered in double_scalars\n",
            "  ret = ret.dtype.type(ret / rcount)\n"
          ]
        },
        {
          "output_type": "stream",
          "name": "stdout",
          "text": [
            "Mean Filtered Similarity Score: nan\n",
            "The current input_phrase is Beef Bourguignonne\n",
            "Mean Filtered Similarity Score: 0.8126983\n",
            "The current input_phrase is Rissole\n"
          ]
        },
        {
          "output_type": "stream",
          "name": "stderr",
          "text": [
            "/usr/local/lib/python3.10/dist-packages/numpy/core/fromnumeric.py:3432: RuntimeWarning: Mean of empty slice.\n",
            "  return _methods._mean(a, axis=axis, dtype=dtype,\n",
            "/usr/local/lib/python3.10/dist-packages/numpy/core/_methods.py:190: RuntimeWarning: invalid value encountered in double_scalars\n",
            "  ret = ret.dtype.type(ret / rcount)\n"
          ]
        },
        {
          "output_type": "stream",
          "name": "stdout",
          "text": [
            "Mean Filtered Similarity Score: nan\n",
            "The current input_phrase is Mostaccioli\n"
          ]
        },
        {
          "output_type": "stream",
          "name": "stderr",
          "text": [
            "/usr/local/lib/python3.10/dist-packages/numpy/core/fromnumeric.py:3432: RuntimeWarning: Mean of empty slice.\n",
            "  return _methods._mean(a, axis=axis, dtype=dtype,\n",
            "/usr/local/lib/python3.10/dist-packages/numpy/core/_methods.py:190: RuntimeWarning: invalid value encountered in double_scalars\n",
            "  ret = ret.dtype.type(ret / rcount)\n"
          ]
        },
        {
          "output_type": "stream",
          "name": "stdout",
          "text": [
            "Mean Filtered Similarity Score: nan\n",
            "The current input_phrase is Apple Turnover\n",
            "Mean Filtered Similarity Score: 0.44774026\n",
            "The current input_phrase is Matzo Ball\n",
            "Mean Filtered Similarity Score: 0.5536658\n",
            "The current input_phrase is Chicken Cordon Bleu\n",
            "Mean Filtered Similarity Score: 0.41715962\n",
            "The current input_phrase is Eccles Cake\n"
          ]
        },
        {
          "output_type": "stream",
          "name": "stderr",
          "text": [
            "/usr/local/lib/python3.10/dist-packages/numpy/core/fromnumeric.py:3432: RuntimeWarning: Mean of empty slice.\n",
            "  return _methods._mean(a, axis=axis, dtype=dtype,\n",
            "/usr/local/lib/python3.10/dist-packages/numpy/core/_methods.py:190: RuntimeWarning: invalid value encountered in double_scalars\n",
            "  ret = ret.dtype.type(ret / rcount)\n"
          ]
        },
        {
          "output_type": "stream",
          "name": "stdout",
          "text": [
            "Mean Filtered Similarity Score: nan\n",
            "The current input_phrase is Moo Goo Gai Pan\n"
          ]
        },
        {
          "output_type": "stream",
          "name": "stderr",
          "text": [
            "/usr/local/lib/python3.10/dist-packages/numpy/core/fromnumeric.py:3432: RuntimeWarning: Mean of empty slice.\n",
            "  return _methods._mean(a, axis=axis, dtype=dtype,\n",
            "/usr/local/lib/python3.10/dist-packages/numpy/core/_methods.py:190: RuntimeWarning: invalid value encountered in double_scalars\n",
            "  ret = ret.dtype.type(ret / rcount)\n"
          ]
        },
        {
          "output_type": "stream",
          "name": "stdout",
          "text": [
            "Mean Filtered Similarity Score: nan\n",
            "The current input_phrase is Buffalo Wing\n",
            "Mean Filtered Similarity Score: 0.7931347\n",
            "The current input_phrase is Stuffed Tomato\n",
            "Mean Filtered Similarity Score: 0.52458197\n",
            "Overall Average Cosine Similarity: nan\n"
          ]
        }
      ],
      "source": [
        "import numpy as np\n",
        "import numpy as np\n",
        "from gensim.models import Doc2Vec\n",
        "from sklearn.metrics.pairwise import cosine_similarity\n",
        "import matplotlib.pyplot as plt\n",
        "\n",
        "def calculate_mean_similarity(input_phrase, model):\n",
        "    # Generate an embedding for the input text data\n",
        "    input_phrase_embedding = model.infer_vector(input_phrase.split())\n",
        "    print(f\"The current input_phrase is {input_phrase}\")\n",
        "    # Similarities will store cosine similarity with recipe name/indices\n",
        "    similarities = []\n",
        "\n",
        "    # Iterate through the recipe names in the DataFrame\n",
        "    for index, row in df_recipes.iterrows():\n",
        "        if isinstance(row['Title'], str):\n",
        "            # Generate an embedding for the current recipe name\n",
        "            recipe_name_embedding = model.infer_vector(row['Title'].split())\n",
        "\n",
        "            # Calculate cosine similarity\n",
        "            similarity_score = cosine_similarity([input_phrase_embedding],\n",
        "                                                 [recipe_name_embedding])[0][0]\n",
        "\n",
        "            # Store the similarity score, DataFrame index, and recipe name\n",
        "            similarities.append((index, similarity_score, row[\"Title\"]))\n",
        "\n",
        "    # Filter similarities based on input phrase\n",
        "    filtered_similarities = [(index, score, title) for index, score, title in similarities\n",
        "                             if input_phrase.lower() in title.lower()]\n",
        "\n",
        "    # Sort filtered similarities by similarity score in descending order\n",
        "    filtered_similarities.sort(key=lambda x: x[1], reverse=True)\n",
        "\n",
        "    # Get the top N most similar recipe names\n",
        "    top_n_similar_recipe_names = [(df_recipes.at[index, 'Title'], similarity_score)\n",
        "                                  for index, similarity_score, _ in filtered_similarities[:10]]\n",
        "\n",
        "    # # Print the top N most similar recipe names and their similarity scores\n",
        "    # for recipe_name, similarity_score in top_n_similar_recipe_names:\n",
        "    #     print(f\"Recipe Name: {recipe_name}\")\n",
        "    #     print(f\"Similarity Score: {similarity_score}\")\n",
        "    #     print()\n",
        "\n",
        "    # Calculate the mean of the filtered similarity scores\n",
        "    mean_filtered_similarity = np.mean([score for _, score, _ in filtered_similarities])\n",
        "\n",
        "    print(\"Mean Filtered Similarity Score:\", mean_filtered_similarity)\n",
        "\n",
        "    return mean_filtered_similarity\n",
        "\n",
        "# Example usage:\n",
        "# Load the trained Doc2Vec model\n",
        "model = Doc2Vec.load('d2v_recipe_names.model')\n",
        "\n",
        "# Assuming df_recipes is your DataFrame with recipe names\n",
        "# and input_phrase is the user input\n",
        "input_phrase = \"Apple Pie\"\n",
        "input_phrases = sc_list\n",
        "\n",
        "# Call the function to calculate the mean similarity\n",
        "# mean_similarity = calculate_mean_similarity(input_phrase, model)\n",
        "\n",
        "average_similarities = [calculate_mean_similarity(phrase, model) for phrase in input_phrases]\n",
        "print(f\"Overall Average Cosine Similarity: {np.mean(average_similarities)}\")"
      ]
    },
    {
      "cell_type": "code",
      "source": [
        "print(average_similarities)\n",
        "file_path = '/content/output.txt'\n",
        "\n",
        "# Open the file in write mode ('w')\n",
        "with open(file_path, 'w') as file:\n",
        "    # Write each value to a new line in the file after converting to string\n",
        "    for value in average_similarities:\n",
        "        file.write(str(value) + '\\n')\n",
        "\n",
        "print(f\"Values have been written to {file_path}\")"
      ],
      "metadata": {
        "colab": {
          "base_uri": "https://localhost:8080/"
        },
        "id": "vEgxberoMjH4",
        "outputId": "1d0d0692-28a7-4221-a07e-acb9aaa5be37"
      },
      "execution_count": null,
      "outputs": [
        {
          "output_type": "stream",
          "name": "stdout",
          "text": [
            "[0.08171788, 0.0054025203, 0.15699479, nan, 0.026826523, 0.5829203, -0.008668501, 0.71158063, 0.38958088, 0.07204108, nan, 0.039719876, 0.46429297, 0.6135901, 0.18668666, 0.49802297, 0.32943398, 0.5235043, nan, 0.4162224, 0.5708779, 0.42055756, 0.5776298, 0.7208541, nan, 0.58444226, 0.58007246, 0.71602726, nan, 0.6583086, 0.5588469, 0.4919018, nan, nan, 0.50096345, 0.62891585, 0.5110018, 0.56471026, 0.5388528, -0.102013424, 0.6015304, 0.92722845, 0.71840805, 0.1814503, nan, nan, 0.4610804, 0.55794156, 0.59747213, 0.74086106, -0.049614307, 0.12759794, 0.749347, 0.5567163, 0.56078225, 0.5268603, 0.6595966, 0.5285069, 0.6474942, 0.54894996, 0.6271614, 0.48776007, nan, 0.43829757, 0.6068334, 0.41370806, 0.49345553, 0.41949874, 0.5729948, 0.6125146, nan, nan, 0.5019448, 0.53361076, nan, 0.5756996, 0.6222735, 0.37486902, 0.5197708, 0.71119565, nan, 0.6725953, 0.70680183, 0.6164583, 0.61969906, 0.43586287, 0.37549475, 0.018562391, 0.7112483, 0.33057112, 0.5628482, nan, 0.8045422, 0.15965705, 0.70140034, 0.6153415, 0.6242798, 0.71628565, 0.5629853, nan, 0.7434548, 0.6218852, 0.3996733, nan, nan, 0.56907463, nan, nan, 0.3846928, 0.8086898, 0.7760321, nan, 0.40686864, 0.84218615, nan, 0.5684113, -0.043069847, nan, 0.5385081, 0.7124183, 0.4489015, nan, 0.46393648, 0.6196225, 0.49371734, nan, 0.5805764, 0.6706168, 0.6554184, nan, -0.038593266, nan, 0.46309662, nan, 0.50475687, 0.7420543, 0.80961263, 0.40008175, 0.6291312, 0.7442141, 0.3950045, 0.61571854, 0.57521623, 0.67785233, 0.511279, nan, 0.6043656, 0.59492236, 0.5193449, 0.07098623, 0.5992861, 0.4937032, 0.5865902, 0.82282287, 0.74640507, 0.06298435, 0.599295, nan, 0.39692533, nan, 0.518404, 0.74469334, 0.81975543, 0.6168199, 0.5689022, 0.5011296, nan, 0.5666667, 0.8175301, 0.5283877, nan, 0.6022885, 0.58761615, 0.8208091, 0.6386292, 0.5806259, nan, nan, 0.68454933, 0.79726183, 0.56722647, 0.75298434, 0.478599, 0.69730026, 0.24859436, nan, nan, 0.5346775, 0.6663741, nan, 0.6145982, 0.42370996, 0.9053149, 0.51063275, 0.4128223, 0.39408886, 0.71362853, nan, 0.47834787, 0.5165141, nan, 0.6027091, 0.0329904, 0.5325359, 0.45081323, nan, 0.087887146, 0.47707358, 0.6675398, nan, 0.5164919, nan, nan, nan, 0.45036352, nan, nan, 0.77197725, nan, 0.61083186, -0.034995083, nan, nan, nan, 0.68883264, nan, 0.39720953, 0.6937857, nan, nan, nan, nan, nan, 0.8049885, nan, 0.89705163, 0.697907, nan, nan, nan, nan, 0.8126983, nan, nan, 0.44774026, 0.5536658, 0.41715962, nan, nan, 0.7931347, 0.52458197]\n",
            "Values have been written to /content/output.txt\n"
          ]
        }
      ]
    },
    {
      "cell_type": "code",
      "execution_count": null,
      "metadata": {
        "id": "FYZxfKvzXwgf"
      },
      "outputs": [],
      "source": [
        "import numpy as np\n",
        "\n",
        "# Load the trained Doc2Vec model from above\n",
        "model = Doc2Vec.load('d2v_recipe_names.model')\n",
        "\n",
        "# Declare some user input (in the full project, this is the result we get from our CNN)\n",
        "input_phrase = \"Samosa\"\n",
        "\n",
        "# Generate an embedding for the input text data\n",
        "input_phrase_embedding = model.infer_vector(input_phrase.split())\n",
        "\n",
        "# Similarities will store cosine similarity with recipe name/ indices\n",
        "similarities = []\n",
        "\n",
        "# Iterate through the recipe names in the DataFrame\n",
        "for index, row in df_recipes.iterrows():\n",
        "    if isinstance(row['Title'], str):\n",
        "    # Generate an embedding for the current recipe name\n",
        "      recipe_name_embedding = model.infer_vector(row['Title'].split())\n",
        "\n",
        "      # Calculate cosine similarity\n",
        "      similarity_score = cosine_similarity([input_phrase_embedding],\n",
        "                                           [recipe_name_embedding])[0][0]\n",
        "\n",
        "      # Store the similarity score and DataFrame index\n",
        "      similarities.append((index, similarity_score, row[\"Title\"]))\n",
        "\n",
        "filtered_similarities = []\n",
        "\n",
        "for index, score, title in similarities:\n",
        "    if input_phrase.lower() in title.lower():\n",
        "        filtered_similarities.append((index, score, title))\n",
        "\n",
        "print(filtered_similarities)\n",
        "filtered_similarities.sort(key=lambda x: x[1], reverse=True)\n",
        "print(filtered_similarities)\n",
        "\n",
        "# Get the top 10 most similar recipe names\n",
        "top_10_similar_recipe_names = [(df_recipes.at[index, 'Title'], similarity_score)\n",
        " for index, similarity_score, title in filtered_similarities[:10]]\n",
        "\n",
        " # Print the top 10 most similar recipe names and their similarity scores\n",
        "for recipe_name, similarity_score in top_10_similar_recipe_names:\n",
        "    print(f\"Recipe Name: {recipe_name}\")\n",
        "    print(f\"Similarity Score: {similarity_score}\")\n",
        "    print()\n",
        "\n",
        "\n",
        "# Assuming filtered_similarities is the list containing filtered similarity scores\n",
        "filtered_similarity_scores = [score for _, score, _ in filtered_similarities]\n",
        "\n",
        "# Calculate the mean of the filtered similarity scores\n",
        "mean_filtered_similarity = np.mean(filtered_similarity_scores)\n",
        "\n",
        "print(\"Mean Filtered Similarity Score:\", mean_filtered_similarity)\n",
        "\n"
      ]
    },
    {
      "cell_type": "code",
      "execution_count": null,
      "metadata": {
        "id": "w2hN6iYjEBn7"
      },
      "outputs": [],
      "source": [
        "filtered_similarities.sort(key=lambda x: x[1], reverse=True)\n",
        "print(filtered_similarities)\n",
        "\n",
        "# Get the top 10 most similar recipe names\n",
        "top_10_similar_recipe_names = [(df_recipes.at[index, 'Title'], similarity_score)\n",
        " for index, similarity_score, title in filtered_similarities[:10]]\n",
        "\n",
        " # Print the top 10 most similar recipe names and their similarity scores\n",
        "for recipe_name, similarity_score in top_10_similar_recipe_names:\n",
        "    print(f\"Recipe Name: {recipe_name}\")\n",
        "    print(f\"Similarity Score: {similarity_score}\")\n",
        "    print()\n",
        "\n",
        "\n",
        "# Assuming filtered_similarities is the list containing filtered similarity scores\n",
        "filtered_similarity_scores = [score for _, score, _ in filtered_similarities]\n",
        "\n",
        "# Calculate the mean of the filtered similarity scores\n",
        "mean_filtered_similarity = np.mean(filtered_similarity_scores)\n",
        "\n",
        "print(\"Mean Filtered Similarity Score:\", mean_filtered_similarity)\n",
        "\n"
      ]
    },
    {
      "cell_type": "markdown",
      "metadata": {
        "id": "PoTjwrHXHuel"
      },
      "source": [
        "Testing other Similarity Metrics"
      ]
    },
    {
      "cell_type": "code",
      "execution_count": null,
      "metadata": {
        "id": "AkltzvxVHy_p"
      },
      "outputs": [],
      "source": [
        "import numpy as np\n",
        "from sklearn.metrics.pairwise import cosine_similarity, euclidean_distances, manhattan_distances\n",
        "from sklearn.metrics import jaccard_score, pairwise_distances\n",
        "from scipy.stats import pearsonr, spearmanr\n",
        "\n",
        "# Load the trained Doc2Vec model from above\n",
        "model = Doc2Vec.load('d2v_recipe_names.model')\n",
        "\n",
        "# Declare some user input (in the full project, this is the result we get from our CNN)\n",
        "input_phrase = \"Apple Pie\"\n",
        "\n",
        "# Generate an embedding for the input text data\n",
        "input_phrase_embedding = model.infer_vector(input_phrase.split())\n",
        "\n",
        "# Similarities will store various similarity scores with recipe name/indices\n",
        "similarities = []\n",
        "\n",
        "# Iterate through the recipe names in the DataFrame\n",
        "for index, row in df_recipes.iterrows():\n",
        "    if isinstance(row['Title'], str):\n",
        "        # Generate an embedding for the current recipe name\n",
        "        recipe_name_embedding = model.infer_vector(row['Title'].split())\n",
        "\n",
        "        # Calculate various similarity metrics\n",
        "        cosine_similarity_score = cosine_similarity([input_phrase_embedding], [recipe_name_embedding])[0][0]\n",
        "        euclidean_distance = 1 / (1 + euclidean_distances([input_phrase_embedding], [recipe_name_embedding])[0][0])\n",
        "        manhattan_distance = 1 / (1 + manhattan_distances([input_phrase_embedding], [recipe_name_embedding])[0][0])\n",
        "        pearson_correlation, _ = pearsonr(input_phrase_embedding, recipe_name_embedding)\n",
        "        spearman_correlation, _ = spearmanr(input_phrase_embedding, recipe_name_embedding)\n",
        "\n",
        "        # Store the similarity scores and DataFrame index\n",
        "        similarities.append((index, cosine_similarity_score, euclidean_distance,\n",
        "                             manhattan_distance,\n",
        "                             pearson_correlation, spearman_correlation, row[\"Title\"]))\n",
        "\n",
        "# Filter similarities based on whether the input phrase is in the recipe title\n",
        "filtered_similarities = [(index, *scores, title) for index, *scores, title in similarities\n",
        "                         if input_phrase.lower() in title.lower()]\n",
        "\n",
        "# Sort the filtered similarities by cosine similarity scores in descending order\n",
        "filtered_similarities.sort(key=lambda x: x[1], reverse=True)\n",
        "\n",
        "# Print the filtered similarities\n",
        "print(\"\\nFiltered Similarities:\")\n",
        "for similarity in filtered_similarities:\n",
        "    index, cosine_sim, euclidean_dist, manhattan_dist, pearson_corr, spearman_corr, title = similarity\n",
        "    print(f\"Index: {index}, Title: {title}\")\n",
        "    print(f\"Cosine Similarity: {cosine_sim}\")\n",
        "    print(f\"Euclidean Distance: {euclidean_dist}\")\n",
        "    print(f\"Manhattan Distance: {manhattan_dist}\")\n",
        "    print(f\"Pearson Correlation: {pearson_corr}\")\n",
        "    print(f\"Spearman Correlation: {spearman_corr}\")\n",
        "    print()\n"
      ]
    },
    {
      "cell_type": "markdown",
      "metadata": {
        "id": "qYs50RBkp9Gn"
      },
      "source": [
        "# Conclusions"
      ]
    },
    {
      "cell_type": "markdown",
      "metadata": {
        "id": "caFLma3xDYPk"
      },
      "source": [
        "In conclusion, we hope participants got a better understanding on both Word2Vec and Doc2Vec, and how word embedding techniques tend to work. While our Doc2Vec model is not completely finished yet, we were able to get decent results in terms of the recipes outputted and the similarity scores between them. Similarly, the Word2Vec models using the Shakespeare dataset also yielded reasonable results with high similarity scores."
      ]
    },
    {
      "cell_type": "markdown",
      "metadata": {
        "id": "HJMhDSlpqACD"
      },
      "source": [
        "#Future Work"
      ]
    },
    {
      "cell_type": "markdown",
      "metadata": {
        "id": "lKPIgAmvETPC"
      },
      "source": [
        "Our next steps for the project will be to increase the cosine similarity scores of our Doc2Vec model by further tuning the model's hyperparameters. At that point, we will try to explore better metrics of evaluating how well our model performs, whether it be by having a cosine similarity threshold or by using something like a Relative Norm Distance score. Additionally, for the purposes of the tutorial, we wanted to present the top 10 most similar recipes in an easy-to-understand format. However, for the final project, we would have to present each recipe's respective information as well and reformat everything so that it looks put together.\n",
        "\n",
        "Looking beyond word embeddings, we will also have to use our other dataset to create a convolution neural network that takes in an image and produces a general food category, that will serve as the input for our Doc2Vec model."
      ]
    },
    {
      "cell_type": "markdown",
      "metadata": {
        "id": "pHHRcikTqGVz"
      },
      "source": [
        "# References"
      ]
    },
    {
      "cell_type": "markdown",
      "metadata": {
        "id": "dayCr5qlLIcD"
      },
      "source": [
        "* Adam Conner-Simons | Rachel Gordon | CSAIL. (n.d.). Artificial Intelligence suggests recipes based on food photos. MIT News | Massachusetts Institute of Technology. https://news.mit.edu/2017/artificial-intelligence-suggests-recipes-based-on-food-photos-0720\n",
        "* Hall, B. (2021, December 15). Using AI to identify ingredients and suggest recipes. Medium. https://medium.com/@brh373/using-ai-to-identify-ingredients-and-suggest-recipes-95482e2aca7d\n",
        "* Inverse cooking: Recipe generation from food images - meta research. Meta Research. (n.d.). https://research.facebook.com/publications/inverse-cooking-recipe-generation-from-food-images/\n",
        "* Singh, K. R. (n.d.). Social media has influenced and revolutionised food industry through virtual food communities, debating communities and networks XII. Debating Communities and Networks XII. https://networkconference.netstudies.org/2021/2021/04/30/social-media-has-influenced-and-revolutionised-food-industry-through-virtual-food-communities/  \n",
        "* 262588213843476. (n.d.). Facebook cooking demo. Gist. https://gist.github.com/JonathanFly/33946a08080041e90e8360b25e263a4e#file-facebook-cooking-demo-ipynb\n",
        "\n"
      ]
    },
    {
      "cell_type": "markdown",
      "metadata": {
        "id": "LO2KC-aBqKTU"
      },
      "source": [
        "# Appendices"
      ]
    },
    {
      "cell_type": "markdown",
      "metadata": {
        "id": "nrCQyqiUeNTa"
      },
      "source": [
        "* 'Food Ingredients and Recipes Dataset with Images' Dataset: https://www.kaggle.com/code/mrmaheshchavan/foodclassification-resnet-vs-efficientnet-10epochs"
      ]
    },
    {
      "cell_type": "markdown",
      "metadata": {
        "id": "-FGWxtuFduuo"
      },
      "source": [
        "<!-- If you're using code, data sets, examples, images or other material based on other people's work, acknowledge it here. This includes parts created with the help of generative AI tools, such as ChatGPT, Google Bard, or Microsoft Copilot. For images and similar material, you should also include a reference anchor or a link to the original.  -->"
      ]
    }
  ],
  "metadata": {
    "accelerator": "GPU",
    "colab": {
      "provenance": [],
      "include_colab_link": true
    },
    "kernelspec": {
      "display_name": "Python 3",
      "name": "python3"
    }
  },
  "nbformat": 4,
  "nbformat_minor": 0
}