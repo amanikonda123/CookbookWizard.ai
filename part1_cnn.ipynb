{
  "cells": [
    {
      "cell_type": "markdown",
      "metadata": {
        "id": "view-in-github",
        "colab_type": "text"
      },
      "source": [
        "<a href=\"https://colab.research.google.com/github/amanikonda123/CookbookWizard.ai/blob/main/Yet_another_copy_of_RecipeReconstruction.ipynb\" target=\"_parent\"><img src=\"https://colab.research.google.com/assets/colab-badge.svg\" alt=\"Open In Colab\"/></a>"
      ]
    },
    {
      "cell_type": "code",
      "execution_count": null,
      "metadata": {
        "id": "OfO6x8XmjfCY"
      },
      "outputs": [],
      "source": [
        "import matplotlib.pyplot as plt\n",
        "import matplotlib.image as img\n",
        "import numpy as np\n",
        "import collections\n",
        "import os\n",
        "import pandas as pd\n",
        "import tensorflow as tf\n",
        "from tensorflow.keras.applications import ResNet50, InceptionV3\n",
        "from tensorflow.keras.layers import GlobalAveragePooling2D, Dense, Dropout, Input\n",
        "from tensorflow.keras.models import Sequential, Model\n",
        "from tensorflow.keras.optimizers import Adam\n",
        "from tensorflow.keras.callbacks import ModelCheckpoint, EarlyStopping, ReduceLROnPlateau\n",
        "from tensorflow.keras.preprocessing.image import ImageDataGenerator\n",
        "from tensorflow.keras import Model, Input\n",
        "from tensorflow.keras import backend as K\n",
        "from sklearn.metrics import confusion_matrix, classification_report, accuracy_score\n",
        "import matplotlib.pyplot as plt\n",
        "import seaborn as sns\n",
        "from sklearn.metrics import confusion_matrix\n",
        "from tensorflow.keras.preprocessing.image import load_img, img_to_array\n",
        "from tensorflow.keras.models import load_model\n",
        "from tensorflow.keras.applications.resnet50 import preprocess_input as preprocess_input_resnet\n",
        "from tensorflow.keras.applications.inception_v3 import preprocess_input as preprocess_input_inception"
      ]
    },
    {
      "cell_type": "code",
      "execution_count": null,
      "metadata": {
        "id": "1ijGTFVmF3L7"
      },
      "outputs": [],
      "source": [
        "!pip install opendatasets"
      ]
    },
    {
      "cell_type": "code",
      "execution_count": null,
      "metadata": {
        "id": "4-hxHduOFjYc"
      },
      "outputs": [],
      "source": [
        "import opendatasets as od\n",
        "od.download(\n",
        "    \"https://www.kaggle.com/competitions/ifood-2019-fgvc6/data\")"
      ]
    },
    {
      "cell_type": "code",
      "execution_count": null,
      "metadata": {
        "id": "jBSEHWSkoyvx"
      },
      "outputs": [],
      "source": [
        "!unzip /content/ifood-2019-fgvc6/train_set.zip\n",
        "!unzip /content/ifood-2019-fgvc6/test_set.zip\n",
        "!unzip /content/ifood-2019-fgvc6/val_set.zip"
      ]
    },
    {
      "cell_type": "code",
      "execution_count": null,
      "metadata": {
        "id": "lg6qnliSNEEP"
      },
      "outputs": [],
      "source": [
        "# Reading in data\n",
        "df_train_labels = pd.read_csv(\"/content/ifood-2019-fgvc6/train_labels.csv\")\n",
        "df_train_labels['label'] = df_train_labels['label'].astype(str)\n",
        "\n",
        "df_val_labels = pd.read_csv(\"/content/ifood-2019-fgvc6/val_labels.csv\")\n",
        "df_val_labels['label'] = df_val_labels['label'].astype(str)\n",
        "\n",
        "num_classes = df_train_labels['label'].nunique()"
      ]
    },
    {
      "cell_type": "code",
      "execution_count": null,
      "metadata": {
        "id": "dxaV_fU37iNK"
      },
      "outputs": [],
      "source": [
        "df_class_list = pd.read_csv('/content/ifood-2019-fgvc6/class_list.txt')\n",
        "df_class_list.rename(columns={'0 macaron': 'Image Class'}, inplace=True)\n",
        "df_class_list['Image Class'] = df_class_list['Image Class'].str.replace(r'^\\d+\\s+', '', regex=True)"
      ]
    },
    {
      "cell_type": "code",
      "execution_count": null,
      "metadata": {
        "id": "vsGxIg1nOuUA"
      },
      "outputs": [],
      "source": [
        "# Custom ImageDataGenerator class\n",
        "class MixupImageDataGenerator(tf.keras.utils.Sequence):\n",
        "    def __init__(self, generator, dataframe, directory, batch_size, img_height, img_width, alpha=0.2, num_classes=251):\n",
        "        self.batch_size = batch_size\n",
        "        self.generator = generator.flow_from_dataframe(\n",
        "            dataframe=dataframe,\n",
        "            directory=directory,\n",
        "            x_col=\"img_name\",\n",
        "            y_col=\"label\",\n",
        "            target_size=(img_height, img_width),\n",
        "            batch_size=batch_size,\n",
        "            class_mode=\"categorical\")\n",
        "        self.alpha = alpha\n",
        "        self.num_classes = num_classes\n",
        "\n",
        "    def __len__(self):\n",
        "        return len(self.generator)\n",
        "\n",
        "    def __getitem__(self, idx):\n",
        "        x, y = next(self.generator)\n",
        "        batch_size = x.shape[0]\n",
        "\n",
        "        # Perform Mixup\n",
        "        lam = np.random.beta(self.alpha, self.alpha, size=batch_size)\n",
        "        index_array = np.random.permutation(batch_size)\n",
        "\n",
        "        mixed_x = lam.reshape(batch_size, 1, 1, 1) * x + (1 - lam).reshape(batch_size, 1, 1, 1) * x[index_array]\n",
        "        mixed_y = lam.reshape(batch_size, 1) * y + (1 - lam).reshape(batch_size, 1) * y[index_array]\n",
        "\n",
        "        return mixed_x, mixed_y\n",
        "\n",
        "    def on_epoch_end(self):\n",
        "        self.generator.on_epoch_end()"
      ]
    },
    {
      "cell_type": "code",
      "execution_count": null,
      "metadata": {
        "id": "GAAApLvMGn8S"
      },
      "outputs": [],
      "source": [
        "# Data augmentation\n",
        "train_datagen = ImageDataGenerator(\n",
        "    rescale=1./255,\n",
        "    rotation_range=30,\n",
        "    width_shift_range=0.2,\n",
        "    height_shift_range=0.2,\n",
        "    shear_range=0.2,\n",
        "    zoom_range=0.2,\n",
        "    horizontal_flip=True,\n",
        "    fill_mode='nearest'\n",
        ")\n",
        "\n",
        "train_mixup_generator = MixupImageDataGenerator(\n",
        "    generator=train_datagen,\n",
        "    dataframe=df_train_labels,\n",
        "    directory='/content/train_set',\n",
        "    batch_size=64,\n",
        "    img_height=224,\n",
        "    img_width=224,\n",
        "    alpha=0.2,\n",
        ")\n",
        "\n",
        "val_datagen = ImageDataGenerator(rescale=1./255)\n",
        "\n",
        "val_generator = val_datagen.flow_from_dataframe(\n",
        "    dataframe=df_val_labels,\n",
        "    directory='/content/val_set',\n",
        "    x_col='img_name',\n",
        "    y_col='label',\n",
        "    target_size=(224, 224),\n",
        "    batch_size=64,\n",
        "    class_mode='categorical',\n",
        "    shuffle=False\n",
        ")"
      ]
    },
    {
      "cell_type": "code",
      "execution_count": null,
      "metadata": {
        "id": "j5hLFtL07nwn"
      },
      "outputs": [],
      "source": [
        "# Callbacks - ResNet50\n",
        "callbacks_resnet = [\n",
        "    ModelCheckpoint('best_model_resnet.h5', monitor='val_accuracy', save_best_only=True, mode='max'),\n",
        "    EarlyStopping(monitor='val_loss', patience=10, mode='min', restore_best_weights=True),\n",
        "    ReduceLROnPlateau(monitor='val_loss', factor=0.1, patience=5, min_lr=0.00001)\n",
        "]"
      ]
    },
    {
      "cell_type": "code",
      "execution_count": null,
      "metadata": {
        "id": "ZkEEKANR9hkC"
      },
      "outputs": [],
      "source": [
        "# Base model - ResNet50\n",
        "base_model_resnet = ResNet50(weights='imagenet', include_top=False, input_shape=(224, 224, 3))\n",
        "x_resnet = base_model_resnet.output\n",
        "x_resnet = GlobalAveragePooling2D()(x_resnet)\n",
        "x_resnet = Dense(1024, activation='relu')(x_resnet)\n",
        "predictions_resnet = Dense(num_classes, activation='softmax')(x_resnet)\n",
        "model_resnet = Model(inputs=base_model_resnet.input, outputs=predictions_resnet)\n",
        "\n",
        "model_resnet.compile(optimizer=Adam(learning_rate=0.00001), loss='categorical_crossentropy', metrics=['accuracy'])"
      ]
    },
    {
      "cell_type": "code",
      "execution_count": null,
      "metadata": {
        "id": "k1lLuuBv9jsU"
      },
      "outputs": [],
      "source": [
        "# Training - ResNet50\n",
        "history_resnet = model_resnet.fit(\n",
        "    train_mixup_generator,\n",
        "    epochs=10,\n",
        "    validation_data=val_generator,\n",
        "    callbacks=callbacks_resnet\n",
        ")"
      ]
    },
    {
      "cell_type": "code",
      "source": [
        "# Callbacks - InceptionV3\n",
        "callbacks_inception = [\n",
        "    ModelCheckpoint('best_model_inception.h5', monitor='val_accuracy', save_best_only=True, mode='max'),\n",
        "    EarlyStopping(monitor='val_loss', patience=10, mode='min', restore_best_weights=True),\n",
        "    ReduceLROnPlateau(monitor='val_loss', factor=0.1, patience=5, min_lr=0.00001)\n",
        "]"
      ],
      "metadata": {
        "id": "d3Mvpf7xd2FS"
      },
      "execution_count": null,
      "outputs": []
    },
    {
      "cell_type": "code",
      "execution_count": null,
      "metadata": {
        "id": "T_1EEQYM7arr"
      },
      "outputs": [],
      "source": [
        "# Base model - InceptionV3\n",
        "base_model_inception = InceptionV3(weights='imagenet', include_top=False, input_shape=(224, 224, 3))\n",
        "x_inception = base_model_inception.output\n",
        "x_inception = GlobalAveragePooling2D()(x_inception)\n",
        "x_inception = Dense(1024, activation='relu')(x_inception)\n",
        "predictions_inception = Dense(num_classes, activation='softmax')(x_inception)\n",
        "model_inception = Model(inputs=base_model_inception.input, outputs=predictions_inception)\n",
        "\n",
        "model_inception.compile(optimizer=Adam(learning_rate=0.00001), loss='categorical_crossentropy', metrics=['accuracy'])"
      ]
    },
    {
      "cell_type": "code",
      "execution_count": null,
      "metadata": {
        "id": "Rcgx7SRMCDdM"
      },
      "outputs": [],
      "source": [
        "# Training - InceptionV3\n",
        "history_inception = model_inception.fit(\n",
        "    train_mixup_generator,\n",
        "    epochs=10,\n",
        "    validation_data=val_generator,\n",
        "    callbacks=callbacks_inception\n",
        ")"
      ]
    },
    {
      "cell_type": "code",
      "execution_count": null,
      "metadata": {
        "id": "KZltpS6mFp6c"
      },
      "outputs": [],
      "source": [
        "# Ensembling the two models\n",
        "def ensemble_predictions(models, generator, weights):\n",
        "    \"\"\"Generate ensemble predictions from multiple models.\"\"\"\n",
        "    total_predictions = None\n",
        "    for model, weight in zip(models, weights):\n",
        "        generator.reset()\n",
        "        predictions = model.predict(generator)\n",
        "        if total_predictions is None:\n",
        "            total_predictions = predictions * weight\n",
        "        else:\n",
        "            total_predictions += predictions * weight\n",
        "\n",
        "    return total_predictions\n",
        "\n",
        "models = [model_resnet, model_inception]\n",
        "weights = [0.6, 0.4]\n",
        "\n",
        "ensemble_pred = ensemble_predictions(models, val_generator, weights)\n",
        "\n",
        "predicted_classes = np.argmax(ensemble_pred, axis=1)\n",
        "\n",
        "accuracy = accuracy_score(val_generator.classes, predicted_classes)\n",
        "print(f\"Ensemble Validation Accuracy: {accuracy*100:.2f}%\")\n",
        "\n",
        "report = classification_report(val_generator.classes, predicted_classes, target_names=list(val_generator.class_indices.keys()))\n",
        "print(\"\\nClassification Report:\")\n",
        "print(report)\n"
      ]
    },
    {
      "cell_type": "code",
      "source": [
        "# Plot the Confusion Matrix\n",
        "cm = confusion_matrix(val_generator.classes, predicted_classes)\n",
        "\n",
        "plt.figure(figsize=(10, 8))\n",
        "sns.heatmap(cm, annot=True, fmt=\"d\", cmap='Blues', xticklabels=list(val_generator.class_indices.keys()), yticklabels=list(val_generator.class_indices.keys()))\n",
        "plt.title('Confusion Matrix')\n",
        "plt.ylabel('Actual')\n",
        "plt.xlabel('Predicted')\n",
        "plt.show()\n"
      ],
      "metadata": {
        "id": "CfIv2S3oW6ti"
      },
      "execution_count": null,
      "outputs": []
    },
    {
      "cell_type": "code",
      "source": [
        "# Preprocess input image, load the models, and predict the class\n",
        "def load_and_preprocess_image(image_path, target_size=(224, 224)):\n",
        "    img = load_img(image_path, target_size=target_size)\n",
        "    img_array = img_to_array(img)\n",
        "    img_array_resnet = preprocess_input_resnet(img_array.copy())\n",
        "    img_array_inception = preprocess_input_inception(img_array.copy())\n",
        "    return img_array_resnet, img_array_inception\n",
        "\n",
        "model_resnet = load_model('best_model_resnet.h5')\n",
        "model_inception = load_model('best_model_inception.h5')\n",
        "\n",
        "def predict_image_class(image_path, models, weights):\n",
        "    img_array_resnet, img_array_inception = load_and_preprocess_image(image_path)\n",
        "    img_array_resnet = np.expand_dims(img_array_resnet, axis=0)\n",
        "    img_array_inception = np.expand_dims(img_array_inception, axis=0)\n",
        "\n",
        "    predictions_resnet = models[0].predict(img_array_resnet)\n",
        "    predictions_inception = models[1].predict(img_array_inception)\n",
        "\n",
        "    ensemble_prediction = predictions_resnet * weights[0] + predictions_inception * weights[1]\n",
        "    class_index = np.argmax(ensemble_prediction, axis=1)\n",
        "    return class_index"
      ],
      "metadata": {
        "id": "jkI19TPReIIA"
      },
      "execution_count": null,
      "outputs": []
    },
    {
      "cell_type": "code",
      "source": [
        "# Upload Image from Google Drive Here\n",
        "image_path = 'uploaded_image.jpg'\n",
        "\n",
        "models = [model_resnet, model_inception]\n",
        "weights = [0.6, 0.4]\n",
        "\n",
        "predicted_class_index = predict_image_class(image_path, models, weights)\n",
        "print(f\"The image is classified as: {df_class_list.iloc[predicted_class_index, 0]}\")"
      ],
      "metadata": {
        "id": "zjBNkFuBeSMx"
      },
      "execution_count": null,
      "outputs": []
    }
  ],
  "metadata": {
    "colab": {
      "provenance": [],
      "gpuType": "T4",
      "include_colab_link": true
    },
    "kernelspec": {
      "display_name": "Python 3",
      "name": "python3"
    },
    "language_info": {
      "name": "python"
    },
    "accelerator": "GPU"
  },
  "nbformat": 4,
  "nbformat_minor": 0
}
